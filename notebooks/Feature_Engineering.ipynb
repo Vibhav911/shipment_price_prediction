{
 "cells": [
  {
   "cell_type": "markdown",
   "id": "30b710b1-9ba8-49e6-84fc-18dca120a658",
   "metadata": {},
   "source": [
    "# Data Preprocessing"
   ]
  },
  {
   "cell_type": "markdown",
   "id": "f8542d6c-30b5-40ea-b622-58f528c3d6c6",
   "metadata": {},
   "source": [
    "### Importing libraries and CSV file"
   ]
  },
  {
   "cell_type": "code",
   "execution_count": 1,
   "id": "a0599f9e-6a07-43d3-b63e-3ba573322219",
   "metadata": {},
   "outputs": [],
   "source": [
    "import numpy as np\n",
    "import pandas as pd\n",
    "import seaborn as sns\n",
    "import matplotlib.pyplot as plt\n",
    "%matplotlib inline\n",
    "import warnings\n",
    "import dask\n",
    "import dask_ml\n",
    "import distributed\n",
    "warnings.filterwarnings('ignore')\n",
    "pd.pandas.set_option('display.max_columns', None)"
   ]
  },
  {
   "cell_type": "code",
   "execution_count": 2,
   "id": "38943bc0-6855-46c5-89f9-85c7cecf7c07",
   "metadata": {},
   "outputs": [
    {
     "data": {
      "text/html": [
       "<div>\n",
       "<style scoped>\n",
       "    .dataframe tbody tr th:only-of-type {\n",
       "        vertical-align: middle;\n",
       "    }\n",
       "\n",
       "    .dataframe tbody tr th {\n",
       "        vertical-align: top;\n",
       "    }\n",
       "\n",
       "    .dataframe thead th {\n",
       "        text-align: right;\n",
       "    }\n",
       "</style>\n",
       "<table border=\"1\" class=\"dataframe\">\n",
       "  <thead>\n",
       "    <tr style=\"text-align: right;\">\n",
       "      <th></th>\n",
       "      <th>Customer Id</th>\n",
       "      <th>Artist Name</th>\n",
       "      <th>Artist Reputation</th>\n",
       "      <th>Height</th>\n",
       "      <th>Width</th>\n",
       "      <th>Weight</th>\n",
       "      <th>Material</th>\n",
       "      <th>Price Of Sculpture</th>\n",
       "      <th>Base Shipping Price</th>\n",
       "      <th>International</th>\n",
       "      <th>Express Shipment</th>\n",
       "      <th>Installation Included</th>\n",
       "      <th>Transport</th>\n",
       "      <th>Fragile</th>\n",
       "      <th>Customer Information</th>\n",
       "      <th>Remote Location</th>\n",
       "      <th>Scheduled Date</th>\n",
       "      <th>Delivery Date</th>\n",
       "      <th>Customer Location</th>\n",
       "      <th>Cost</th>\n",
       "    </tr>\n",
       "  </thead>\n",
       "  <tbody>\n",
       "    <tr>\n",
       "      <th>0</th>\n",
       "      <td>fffe3900350033003300</td>\n",
       "      <td>Billy Jenkins</td>\n",
       "      <td>0.26</td>\n",
       "      <td>17.0</td>\n",
       "      <td>6.0</td>\n",
       "      <td>4128.0</td>\n",
       "      <td>Brass</td>\n",
       "      <td>13.91</td>\n",
       "      <td>16.27</td>\n",
       "      <td>Yes</td>\n",
       "      <td>Yes</td>\n",
       "      <td>No</td>\n",
       "      <td>Airways</td>\n",
       "      <td>No</td>\n",
       "      <td>Working Class</td>\n",
       "      <td>No</td>\n",
       "      <td>06/07/15</td>\n",
       "      <td>06/03/15</td>\n",
       "      <td>New Michelle, OH 50777</td>\n",
       "      <td>-283.29</td>\n",
       "    </tr>\n",
       "    <tr>\n",
       "      <th>1</th>\n",
       "      <td>fffe3800330031003900</td>\n",
       "      <td>Jean Bryant</td>\n",
       "      <td>0.28</td>\n",
       "      <td>3.0</td>\n",
       "      <td>3.0</td>\n",
       "      <td>61.0</td>\n",
       "      <td>Brass</td>\n",
       "      <td>6.83</td>\n",
       "      <td>15.00</td>\n",
       "      <td>No</td>\n",
       "      <td>No</td>\n",
       "      <td>No</td>\n",
       "      <td>Roadways</td>\n",
       "      <td>No</td>\n",
       "      <td>Working Class</td>\n",
       "      <td>No</td>\n",
       "      <td>03/06/17</td>\n",
       "      <td>03/05/17</td>\n",
       "      <td>New Michaelport, WY 12072</td>\n",
       "      <td>-159.96</td>\n",
       "    </tr>\n",
       "    <tr>\n",
       "      <th>2</th>\n",
       "      <td>fffe3600370035003100</td>\n",
       "      <td>Laura Miller</td>\n",
       "      <td>0.07</td>\n",
       "      <td>8.0</td>\n",
       "      <td>5.0</td>\n",
       "      <td>237.0</td>\n",
       "      <td>Clay</td>\n",
       "      <td>4.96</td>\n",
       "      <td>21.18</td>\n",
       "      <td>No</td>\n",
       "      <td>No</td>\n",
       "      <td>No</td>\n",
       "      <td>Roadways</td>\n",
       "      <td>Yes</td>\n",
       "      <td>Working Class</td>\n",
       "      <td>Yes</td>\n",
       "      <td>03/09/15</td>\n",
       "      <td>03/08/15</td>\n",
       "      <td>Bowmanshire, WA 19241</td>\n",
       "      <td>-154.29</td>\n",
       "    </tr>\n",
       "    <tr>\n",
       "      <th>3</th>\n",
       "      <td>fffe350031003300</td>\n",
       "      <td>Robert Chaires</td>\n",
       "      <td>0.12</td>\n",
       "      <td>9.0</td>\n",
       "      <td>NaN</td>\n",
       "      <td>NaN</td>\n",
       "      <td>Aluminium</td>\n",
       "      <td>5.81</td>\n",
       "      <td>16.31</td>\n",
       "      <td>No</td>\n",
       "      <td>No</td>\n",
       "      <td>No</td>\n",
       "      <td>NaN</td>\n",
       "      <td>No</td>\n",
       "      <td>Wealthy</td>\n",
       "      <td>Yes</td>\n",
       "      <td>05/24/15</td>\n",
       "      <td>05/20/15</td>\n",
       "      <td>East Robyn, KY 86375</td>\n",
       "      <td>-161.16</td>\n",
       "    </tr>\n",
       "    <tr>\n",
       "      <th>4</th>\n",
       "      <td>fffe3900320038003400</td>\n",
       "      <td>Rosalyn Krol</td>\n",
       "      <td>0.15</td>\n",
       "      <td>17.0</td>\n",
       "      <td>6.0</td>\n",
       "      <td>324.0</td>\n",
       "      <td>Aluminium</td>\n",
       "      <td>3.18</td>\n",
       "      <td>11.94</td>\n",
       "      <td>Yes</td>\n",
       "      <td>Yes</td>\n",
       "      <td>Yes</td>\n",
       "      <td>Airways</td>\n",
       "      <td>No</td>\n",
       "      <td>Working Class</td>\n",
       "      <td>No</td>\n",
       "      <td>12/18/16</td>\n",
       "      <td>12/14/16</td>\n",
       "      <td>Aprilside, PA 52793</td>\n",
       "      <td>-159.23</td>\n",
       "    </tr>\n",
       "  </tbody>\n",
       "</table>\n",
       "</div>"
      ],
      "text/plain": [
       "            Customer Id     Artist Name  Artist Reputation  Height  Width  \\\n",
       "0  fffe3900350033003300   Billy Jenkins               0.26    17.0    6.0   \n",
       "1  fffe3800330031003900     Jean Bryant               0.28     3.0    3.0   \n",
       "2  fffe3600370035003100    Laura Miller               0.07     8.0    5.0   \n",
       "3      fffe350031003300  Robert Chaires               0.12     9.0    NaN   \n",
       "4  fffe3900320038003400    Rosalyn Krol               0.15    17.0    6.0   \n",
       "\n",
       "   Weight   Material  Price Of Sculpture  Base Shipping Price International  \\\n",
       "0  4128.0      Brass               13.91                16.27           Yes   \n",
       "1    61.0      Brass                6.83                15.00            No   \n",
       "2   237.0       Clay                4.96                21.18            No   \n",
       "3     NaN  Aluminium                5.81                16.31            No   \n",
       "4   324.0  Aluminium                3.18                11.94           Yes   \n",
       "\n",
       "  Express Shipment Installation Included Transport Fragile  \\\n",
       "0              Yes                    No   Airways      No   \n",
       "1               No                    No  Roadways      No   \n",
       "2               No                    No  Roadways     Yes   \n",
       "3               No                    No       NaN      No   \n",
       "4              Yes                   Yes   Airways      No   \n",
       "\n",
       "  Customer Information Remote Location Scheduled Date Delivery Date  \\\n",
       "0        Working Class              No       06/07/15      06/03/15   \n",
       "1        Working Class              No       03/06/17      03/05/17   \n",
       "2        Working Class             Yes       03/09/15      03/08/15   \n",
       "3              Wealthy             Yes       05/24/15      05/20/15   \n",
       "4        Working Class              No       12/18/16      12/14/16   \n",
       "\n",
       "           Customer Location    Cost  \n",
       "0     New Michelle, OH 50777 -283.29  \n",
       "1  New Michaelport, WY 12072 -159.96  \n",
       "2      Bowmanshire, WA 19241 -154.29  \n",
       "3       East Robyn, KY 86375 -161.16  \n",
       "4        Aprilside, PA 52793 -159.23  "
      ]
     },
     "execution_count": 2,
     "metadata": {},
     "output_type": "execute_result"
    }
   ],
   "source": [
    "df = pd.read_csv('/home/vibhav911/Documents/DS_Projects/shipment_price_prediction/data/train.csv')\n",
    "df.head()"
   ]
  },
  {
   "cell_type": "code",
   "execution_count": 3,
   "id": "3469355d-1e55-4143-8ce0-0acee3f71d78",
   "metadata": {},
   "outputs": [
    {
     "data": {
      "text/plain": [
       "Customer Id                 0\n",
       "Artist Name                 0\n",
       "Artist Reputation         750\n",
       "Height                    375\n",
       "Width                     584\n",
       "Weight                    587\n",
       "Material                  764\n",
       "Price Of Sculpture          0\n",
       "Base Shipping Price         0\n",
       "International               0\n",
       "Express Shipment            0\n",
       "Installation Included       0\n",
       "Transport                1392\n",
       "Fragile                     0\n",
       "Customer Information        0\n",
       "Remote Location           771\n",
       "Scheduled Date              0\n",
       "Delivery Date               0\n",
       "Customer Location           0\n",
       "Cost                        0\n",
       "dtype: int64"
      ]
     },
     "execution_count": 3,
     "metadata": {},
     "output_type": "execute_result"
    }
   ],
   "source": [
    "df.isnull().sum()"
   ]
  },
  {
   "cell_type": "markdown",
   "id": "054a09c5-d5fb-4c72-8a44-e74b51df0507",
   "metadata": {},
   "source": [
    "# Data Cleaning"
   ]
  },
  {
   "cell_type": "markdown",
   "id": "50406ee2-4575-4676-a0d5-91a82fe2b421",
   "metadata": {},
   "source": [
    "## Checking for Null Values"
   ]
  },
  {
   "cell_type": "code",
   "execution_count": 4,
   "id": "c7519f65-5a94-4398-9857-0cab989d3437",
   "metadata": {},
   "outputs": [
    {
     "name": "stdout",
     "output_type": "stream",
     "text": [
      "Artist Reputation 11.53846 % missing values\n",
      "Height 5.76923 % missing values\n",
      "Width 8.98462 % missing values\n",
      "Weight 9.03077 % missing values\n",
      "Material 11.75385 % missing values\n",
      "Transport 21.41538 % missing values\n",
      "Remote Location 11.86154 % missing values\n"
     ]
    }
   ],
   "source": [
    "features_with_nan = [feature for feature in df.columns if df[feature].isnull().sum() >= 1]\n",
    "for feature in features_with_nan:\n",
    "    print(feature,np.round(df[feature].isnull().mean()*100,5), '% missing values')"
   ]
  },
  {
   "cell_type": "code",
   "execution_count": 5,
   "id": "8ef9166e-e150-4ac7-8828-91965bbed80d",
   "metadata": {},
   "outputs": [
    {
     "data": {
      "text/plain": [
       "['Artist Reputation',\n",
       " 'Height',\n",
       " 'Width',\n",
       " 'Weight',\n",
       " 'Material',\n",
       " 'Transport',\n",
       " 'Remote Location']"
      ]
     },
     "execution_count": 5,
     "metadata": {},
     "output_type": "execute_result"
    }
   ],
   "source": [
    "features_with_nan"
   ]
  },
  {
   "cell_type": "markdown",
   "id": "ef5432b9-3c18-464d-8c88-c3a6853fbad2",
   "metadata": {},
   "source": [
    "#### When considering the potential impact of the missing data on the Dataset, it is important to consider the underlying reasons for why the data are missing\n",
    "### Missing data are of three categories:\n",
    "#### Missing completely at random (MCAR)\n",
    "#### Missing at random (MAR).\n",
    "#### Missing not at random (MNAR). "
   ]
  },
  {
   "cell_type": "markdown",
   "id": "788b3296-31e7-4542-8589-4944789e350d",
   "metadata": {},
   "source": [
    "## CHecking for duplicate values"
   ]
  },
  {
   "cell_type": "code",
   "execution_count": 6,
   "id": "e7c5d033-6ed5-4f6a-957e-af4ec06f3fb3",
   "metadata": {},
   "outputs": [
    {
     "data": {
      "text/plain": [
       "0"
      ]
     },
     "execution_count": 6,
     "metadata": {},
     "output_type": "execute_result"
    }
   ],
   "source": [
    "df.duplicated().sum()"
   ]
  },
  {
   "cell_type": "markdown",
   "id": "ae752645-58a9-4d7e-8f98-5d77bdea8415",
   "metadata": {},
   "source": [
    "### Observation\n",
    "#### There are no deplicated values in the data"
   ]
  },
  {
   "cell_type": "markdown",
   "id": "852142bf-311d-4006-978d-98d03da1ab72",
   "metadata": {},
   "source": [
    "# Separating Features"
   ]
  },
  {
   "cell_type": "code",
   "execution_count": 7,
   "id": "e55f2748-935a-4936-bda3-2731b3b3af98",
   "metadata": {},
   "outputs": [
    {
     "name": "stdout",
     "output_type": "stream",
     "text": [
      "We have 6 Numeric features:['Artist Reputation', 'Height', 'Width', 'Weight', 'Price Of Sculpture', 'Base Shipping Price']\n",
      "We have 13 Non numeric features:['Customer Id', 'Artist Name', 'Material', 'International', 'Express Shipment', 'Installation Included', 'Transport', 'Fragile', 'Customer Information', 'Remote Location', 'Scheduled Date', 'Delivery Date', 'Customer Location']\n"
     ]
    }
   ],
   "source": [
    "target_feature = 'Cost'\n",
    "numeric_feature = [feature for feature in df.columns if df[feature].dtypes != 'O']\n",
    "numeric_feature.remove(target_feature)\n",
    "non_numeric_feature = [feature for feature in df.columns if df[feature].dtypes == 'O']\n",
    "\n",
    "print('We have {} Numeric features:{}'.format(len(numeric_feature), numeric_feature))\n",
    "print('We have {} Non numeric features:{}'.format(len(non_numeric_feature), non_numeric_feature))"
   ]
  },
  {
   "cell_type": "code",
   "execution_count": 8,
   "id": "72dea48c-be3a-401e-b3b6-e2dc725557b1",
   "metadata": {},
   "outputs": [
    {
     "data": {
      "text/plain": [
       "['Artist Reputation',\n",
       " 'Height',\n",
       " 'Width',\n",
       " 'Weight',\n",
       " 'Price Of Sculpture',\n",
       " 'Base Shipping Price']"
      ]
     },
     "execution_count": 8,
     "metadata": {},
     "output_type": "execute_result"
    }
   ],
   "source": [
    "numeric_feature"
   ]
  },
  {
   "cell_type": "markdown",
   "id": "5971258c-d0ed-46f2-9e7a-942debb22096",
   "metadata": {},
   "source": [
    "## Imputing null values with median to check for multicollinearity"
   ]
  },
  {
   "cell_type": "code",
   "execution_count": 9,
   "id": "ff5f33c9-bb6b-4253-a42a-243a9ad83426",
   "metadata": {},
   "outputs": [
    {
     "data": {
      "text/plain": [
       "Customer Id                 0\n",
       "Artist Name                 0\n",
       "Artist Reputation         750\n",
       "Height                    375\n",
       "Width                     584\n",
       "Weight                    587\n",
       "Material                  764\n",
       "Price Of Sculpture          0\n",
       "Base Shipping Price         0\n",
       "International               0\n",
       "Express Shipment            0\n",
       "Installation Included       0\n",
       "Transport                1392\n",
       "Fragile                     0\n",
       "Customer Information        0\n",
       "Remote Location           771\n",
       "Scheduled Date              0\n",
       "Delivery Date               0\n",
       "Customer Location           0\n",
       "Cost                        0\n",
       "dtype: int64"
      ]
     },
     "execution_count": 9,
     "metadata": {},
     "output_type": "execute_result"
    }
   ],
   "source": [
    "df.isnull().sum()"
   ]
  },
  {
   "cell_type": "code",
   "execution_count": 10,
   "id": "04e3dd4e-6335-4dae-aa44-185b8032467b",
   "metadata": {},
   "outputs": [],
   "source": [
    "df1 = df.copy()\n",
    "for i in numeric_feature:\n",
    "    df1[i].fillna(df1[i].median(), inplace=True)"
   ]
  },
  {
   "cell_type": "code",
   "execution_count": 11,
   "id": "37d9ff7d-8742-4c3e-9205-270cf4bac61a",
   "metadata": {},
   "outputs": [
    {
     "data": {
      "text/plain": [
       "Customer Id                 0\n",
       "Artist Name                 0\n",
       "Artist Reputation           0\n",
       "Height                      0\n",
       "Width                       0\n",
       "Weight                      0\n",
       "Material                  764\n",
       "Price Of Sculpture          0\n",
       "Base Shipping Price         0\n",
       "International               0\n",
       "Express Shipment            0\n",
       "Installation Included       0\n",
       "Transport                1392\n",
       "Fragile                     0\n",
       "Customer Information        0\n",
       "Remote Location           771\n",
       "Scheduled Date              0\n",
       "Delivery Date               0\n",
       "Customer Location           0\n",
       "Cost                        0\n",
       "dtype: int64"
      ]
     },
     "execution_count": 11,
     "metadata": {},
     "output_type": "execute_result"
    }
   ],
   "source": [
    "df1.isnull().sum()"
   ]
  },
  {
   "cell_type": "markdown",
   "id": "68c8d6bb-5bf1-4365-afb9-638c4d004557",
   "metadata": {},
   "source": [
    "## Multicollinearity Check"
   ]
  },
  {
   "cell_type": "markdown",
   "id": "c7a9d634-e230-40b5-a734-1f9e2cca6403",
   "metadata": {},
   "source": [
    "### Variance Inflation Factor"
   ]
  },
  {
   "cell_type": "markdown",
   "id": "92b1e2dd-4d3b-4df3-9d92-cb33ebe33936",
   "metadata": {},
   "source": [
    "#### Multicollinearity occurs when there are two or more independent variables in a multiple regression model, which have a high correlation among themselves. When some features are highly correlated.\n",
    "#### Multicollinearity can be detected using various techniques, one such technique being the Variance Inflation Factor(VIF)."
   ]
  },
  {
   "cell_type": "code",
   "execution_count": 12,
   "id": "f857005e-b203-4ad6-a39e-154f1eea6a2c",
   "metadata": {
    "scrolled": true
   },
   "outputs": [
    {
     "name": "stdout",
     "output_type": "stream",
     "text": [
      "Variance Inflation Factor of Artist Reputation column is 1.01 \n",
      "\n",
      "Variance Inflation Factor of Height column is 1.01 \n",
      "\n",
      "Variance Inflation Factor of Width column is 1.02 \n",
      "\n",
      "Variance Inflation Factor of Weight column is 1.2 \n",
      "\n",
      "Variance Inflation Factor of Price Of Sculpture column is 1.3 \n",
      "\n",
      "Variance Inflation Factor of Base Shipping Price column is 1.01 \n",
      "\n"
     ]
    }
   ],
   "source": [
    "import statsmodels.api as sm\n",
    "for i in range(0, len(numeric_feature)):\n",
    "    x = df1[numeric_feature[i]]\n",
    "    y = df1.Cost\n",
    "    model = sm.OLS(x,y)\n",
    "    results = model.fit()\n",
    "    rsq = results.rsquared\n",
    "    vif = round(1/(1-rsq), 2)\n",
    "    print(\"Variance Inflation Factor of {} column is {} \\n\".format(numeric_feature[i], vif))"
   ]
  },
  {
   "cell_type": "markdown",
   "id": "7e8ec4fa-dcd1-4893-8920-5abd2813d473",
   "metadata": {},
   "source": [
    "### Observation\n",
    "#### All columns have VIF around 1, hence there is no severe multicollinearity"
   ]
  },
  {
   "cell_type": "code",
   "execution_count": 13,
   "id": "099662e1-c499-4256-9485-389db1648f5f",
   "metadata": {
    "scrolled": true
   },
   "outputs": [
    {
     "data": {
      "image/png": "[encoded data removed]",
      "text/plain": [
       "<Figure size 700x500 with 1 Axes>"
      ]
     },
     "metadata": {},
     "output_type": "display_data"
    },
    {
     "data": {
      "image/png": "[encoded data removed]",
      "text/plain": [
       "<Figure size 700x500 with 1 Axes>"
      ]
     },
     "metadata": {},
     "output_type": "display_data"
    },
    {
     "data": {
      "image/png": "[encoded data removed]",
      "text/plain": [
       "<Figure size 700x500 with 1 Axes>"
      ]
     },
     "metadata": {},
     "output_type": "display_data"
    },
    {
     "data": {
      "image/png": "[encoded data removed]",
      "text/plain": [
       "<Figure size 700x500 with 1 Axes>"
      ]
     },
     "metadata": {},
     "output_type": "display_data"
    },
    {
     "data": {
      "image/png": "[encoded data removed]",
      "text/plain": [
       "<Figure size 700x500 with 1 Axes>"
      ]
     },
     "metadata": {},
     "output_type": "display_data"
    },
    {
     "data": {
      "image/png": "[encoded data removed]",
      "text/plain": [
       "<Figure size 700x500 with 1 Axes>"
      ]
     },
     "metadata": {},
     "output_type": "display_data"
    }
   ],
   "source": [
    "for i in numeric_feature:\n",
    "    plt.figure(figsize=(7,5))\n",
    "    sns.set_style('ticks')\n",
    "    sns.boxplot(df[i], orient='h', palette='Set2')"
   ]
  },
  {
   "cell_type": "code",
   "execution_count": 14,
   "id": "9bc64a5f-2423-4354-82ca-d65fa84c2793",
   "metadata": {},
   "outputs": [
    {
     "data": {
      "image/png": "[encoded data removed]",
      "text/plain": [
       "<Figure size 1500x1500 with 6 Axes>"
      ]
     },
     "metadata": {},
     "output_type": "display_data"
    }
   ],
   "source": [
    "plt.figure(figsize=(15,15))\n",
    "plt.suptitle('Data Distribution of Numerical Features', fontsize=20, fontweight='bold', alpha=0.8, y=1)\n",
    "for i in range(0, len(numeric_feature)):\n",
    "    plt.subplot(5,3,i+1)\n",
    "    sns.kdeplot(x=df[numeric_feature[i]], shade=True, color='b')\n",
    "    plt.xlabel(numeric_feature[i])\n",
    "    plt.tight_layout()"
   ]
  },
  {
   "cell_type": "code",
   "execution_count": 15,
   "id": "9c46b90f-e680-4d68-bfcf-b8ba0b2232e5",
   "metadata": {},
   "outputs": [
    {
     "data": {
      "text/plain": [
       "Artist Reputation       0.141363\n",
       "Height                  0.594041\n",
       "Width                   1.546702\n",
       "Weight                 21.556174\n",
       "Price Of Sculpture     22.206823\n",
       "Base Shipping Price     0.918102\n",
       "dtype: float64"
      ]
     },
     "execution_count": 15,
     "metadata": {},
     "output_type": "execute_result"
    }
   ],
   "source": [
    "df[numeric_feature].skew()"
   ]
  },
  {
   "cell_type": "markdown",
   "id": "578ed686-3690-4cb1-a309-8e3283d2fb9d",
   "metadata": {},
   "source": [
    "### Observation\n",
    "#### 1) Weight and Price of Sculpture are extremely skewed, maybe because of Outlier.\n",
    "#### 2) We can handle these case with power transformer or log transformer\n",
    "#### 3) Width, Base Shipping Price is sligthy positively skewed but not severe as shown by skewness coefficient."
   ]
  },
  {
   "cell_type": "markdown",
   "id": "6936ef22-c41a-41f2-9f25-ef03ac57ed9d",
   "metadata": {},
   "source": [
    "## Checking the Power Transformer on Outliers"
   ]
  },
  {
   "cell_type": "code",
   "execution_count": 16,
   "id": "d4269349-7c43-4e79-bced-dc8de2eb7011",
   "metadata": {},
   "outputs": [
    {
     "data": {
      "text/plain": [
       "Customer Id                 0\n",
       "Artist Name                 0\n",
       "Artist Reputation           0\n",
       "Height                      0\n",
       "Width                       0\n",
       "Weight                      0\n",
       "Material                  764\n",
       "Price Of Sculpture          0\n",
       "Base Shipping Price         0\n",
       "International               0\n",
       "Express Shipment            0\n",
       "Installation Included       0\n",
       "Transport                1392\n",
       "Fragile                     0\n",
       "Customer Information        0\n",
       "Remote Location           771\n",
       "Scheduled Date              0\n",
       "Delivery Date               0\n",
       "Customer Location           0\n",
       "Cost                        0\n",
       "dtype: int64"
      ]
     },
     "execution_count": 16,
     "metadata": {},
     "output_type": "execute_result"
    }
   ],
   "source": [
    "df1.isnull().sum()"
   ]
  },
  {
   "cell_type": "code",
   "execution_count": 17,
   "id": "3c0e7784-442c-4fd5-9bd4-db2a7672bde8",
   "metadata": {},
   "outputs": [],
   "source": [
    "outlier_features = ['Weight', 'Price Of Sculpture']"
   ]
  },
  {
   "cell_type": "code",
   "execution_count": 18,
   "id": "1e336d47-aff3-4f4e-9cf0-155f988655fa",
   "metadata": {},
   "outputs": [],
   "source": [
    "outlier_data = df1[outlier_features]"
   ]
  },
  {
   "cell_type": "code",
   "execution_count": 19,
   "id": "79d5c033-5129-4f17-81d4-72554831de11",
   "metadata": {},
   "outputs": [],
   "source": [
    "outlier_features = ['Weight', 'Price Of Sculpture']\n",
    "outlier_data = df1[outlier_features]\n",
    "from sklearn.preprocessing import PowerTransformer\n",
    "pt = PowerTransformer(method='box-cox')\n",
    "\n",
    "df1[outlier_features] = pt.fit_transform(df1[outlier_features])\n",
    "df_outlier = pd.DataFrame(outlier_data, columns=outlier_features)"
   ]
  },
  {
   "cell_type": "code",
   "execution_count": 20,
   "id": "a56a24ba-2f91-4b58-9c23-0ea8dec20b35",
   "metadata": {},
   "outputs": [],
   "source": [
    "df_outlier = pd.DataFrame(outlier_data, columns=outlier_features)"
   ]
  },
  {
   "cell_type": "code",
   "execution_count": 21,
   "id": "64745779-3cd6-471d-9310-1e4df6e4646f",
   "metadata": {},
   "outputs": [
    {
     "data": {
      "image/png": "[encoded data removed]",
      "text/plain": [
       "<Figure size 1500x1500 with 2 Axes>"
      ]
     },
     "metadata": {},
     "output_type": "display_data"
    }
   ],
   "source": [
    "plt.figure(figsize=(15, 15))\n",
    "plt.suptitle('Data Distribution for Numerical Features', fontsize=20, fontweight='bold', alpha=0.8, y=1)\n",
    "\n",
    "for i in range(0, len(outlier_features)):\n",
    "    plt.subplot(5, 3, i+1)\n",
    "    sns.histplot(x=df1[outlier_features[i]], color='b')\n",
    "    plt.xlabel(outlier_features[i])\n",
    "    plt.tight_layout()\n"
   ]
  },
  {
   "cell_type": "code",
   "execution_count": 22,
   "id": "beb5574b-b9f5-4730-bab1-a4407da16a17",
   "metadata": {},
   "outputs": [
    {
     "data": {
      "text/plain": [
       "Weight                0.024918\n",
       "Price Of Sculpture    0.438879\n",
       "dtype: float64"
      ]
     },
     "execution_count": 22,
     "metadata": {},
     "output_type": "execute_result"
    }
   ],
   "source": [
    "df1[outlier_features].skew()"
   ]
  },
  {
   "cell_type": "markdown",
   "id": "0d30ad40-4e36-4b44-9b00-cda85892282a",
   "metadata": {},
   "source": [
    "### Observation\n",
    "#### Power Transformer did a good job in overcome skewness and handling outliers"
   ]
  },
  {
   "cell_type": "code",
   "execution_count": 23,
   "id": "864a8a29-b7e1-4bc9-9c09-8e2c9764b6a6",
   "metadata": {
    "scrolled": true
   },
   "outputs": [
    {
     "data": {
      "image/png": "[encoded data removed]",
      "text/plain": [
       "<Figure size 700x500 with 1 Axes>"
      ]
     },
     "metadata": {},
     "output_type": "display_data"
    },
    {
     "data": {
      "image/png": "[encoded data removed]",
      "text/plain": [
       "<Figure size 700x500 with 1 Axes>"
      ]
     },
     "metadata": {},
     "output_type": "display_data"
    },
    {
     "data": {
      "image/png": "[encoded data removed]",
      "text/plain": [
       "<Figure size 700x500 with 1 Axes>"
      ]
     },
     "metadata": {},
     "output_type": "display_data"
    },
    {
     "data": {
      "image/png": "[encoded data removed]",
      "text/plain": [
       "<Figure size 700x500 with 1 Axes>"
      ]
     },
     "metadata": {},
     "output_type": "display_data"
    },
    {
     "data": {
      "image/png": "[encoded data removed]",
      "text/plain": [
       "<Figure size 700x500 with 1 Axes>"
      ]
     },
     "metadata": {},
     "output_type": "display_data"
    },
    {
     "data": {
      "image/png": "[encoded data removed]",
      "text/plain": [
       "<Figure size 700x500 with 1 Axes>"
      ]
     },
     "metadata": {},
     "output_type": "display_data"
    }
   ],
   "source": [
    "for i in numeric_feature:\n",
    "    plt.figure(figsize=(7,5))\n",
    "    sns.set_style('ticks')\n",
    "    ax = sns.boxplot(df1[i], orient='h')"
   ]
  },
  {
   "cell_type": "markdown",
   "id": "750bc1eb-09eb-46e2-9997-1ad27ac7d209",
   "metadata": {},
   "source": [
    "### Removing outliers from Target Column\n",
    "#### Because most model would perform better on noiseless data, as Outlier might skew the findings of your model in one direction"
   ]
  },
  {
   "cell_type": "code",
   "execution_count": 24,
   "id": "6b8a2d8a-89e1-4fe5-9540-34433e9ca76b",
   "metadata": {},
   "outputs": [
    {
     "data": {
      "image/png": "[encoded data removed]",
      "text/plain": [
       "<Figure size 1000x500 with 1 Axes>"
      ]
     },
     "metadata": {},
     "output_type": "display_data"
    }
   ],
   "source": [
    "plt.subplots(figsize=(10,5))\n",
    "sns.histplot(df['Cost'], bins=200, kde=True, color = 'b')\n",
    "plt.title(\"Cost Distribution\", weight=\"bold\",fontsize=20, pad=20)\n",
    "plt.ylabel(\"Count\", weight=\"bold\", fontsize=12)\n",
    "plt.xlabel(\"Cost price in millions\", weight=\"bold\", fontsize=12)\n",
    "plt.show()"
   ]
  },
  {
   "cell_type": "code",
   "execution_count": 25,
   "id": "9bd9dd9d-e8e1-455f-af5c-73fc78025d9e",
   "metadata": {},
   "outputs": [
    {
     "data": {
      "text/plain": [
       "29.817459343776964"
      ]
     },
     "execution_count": 25,
     "metadata": {},
     "output_type": "execute_result"
    }
   ],
   "source": [
    "df1['Cost'].skew()"
   ]
  },
  {
   "cell_type": "markdown",
   "id": "38b13674",
   "metadata": {},
   "source": [
    "Need to apply transformation to target column to make it normally distributed. we use 1p to avoid `inf` values arise dued to `0` in the target column"
   ]
  },
  {
   "cell_type": "code",
   "execution_count": 26,
   "id": "8dcbd14b-b26c-49e0-b965-7ebcd2385c6a",
   "metadata": {},
   "outputs": [],
   "source": [
    "df1['Cost'] = np.log1p(df1['Cost'])"
   ]
  },
  {
   "cell_type": "code",
   "execution_count": 27,
   "id": "aa1b64b9-055e-4452-9529-1663f539c4e9",
   "metadata": {},
   "outputs": [
    {
     "data": {
      "text/plain": [
       "1.7804525777227338"
      ]
     },
     "execution_count": 27,
     "metadata": {},
     "output_type": "execute_result"
    }
   ],
   "source": [
    "df1['Cost'].skew()"
   ]
  },
  {
   "cell_type": "code",
   "execution_count": 28,
   "id": "968dff59-b5c0-4e2e-9e61-0a8cffe48cad",
   "metadata": {},
   "outputs": [
    {
     "data": {
      "text/plain": [
       "Customer Id                 0\n",
       "Artist Name                 0\n",
       "Artist Reputation           0\n",
       "Height                      0\n",
       "Width                       0\n",
       "Weight                      0\n",
       "Material                  764\n",
       "Price Of Sculpture          0\n",
       "Base Shipping Price         0\n",
       "International               0\n",
       "Express Shipment            0\n",
       "Installation Included       0\n",
       "Transport                1392\n",
       "Fragile                     0\n",
       "Customer Information        0\n",
       "Remote Location           771\n",
       "Scheduled Date              0\n",
       "Delivery Date               0\n",
       "Customer Location           0\n",
       "Cost                      659\n",
       "dtype: int64"
      ]
     },
     "execution_count": 28,
     "metadata": {},
     "output_type": "execute_result"
    }
   ],
   "source": [
    "df1.isnull().sum()"
   ]
  },
  {
   "cell_type": "code",
   "execution_count": 29,
   "id": "f5f91f83-5719-433d-9645-a26a18cfa370",
   "metadata": {
    "scrolled": true
   },
   "outputs": [
    {
     "data": {
      "text/plain": [
       "(array([1973., 1985.,  954.,  461.,  223.,  127.,   64.,   32.,   16.,\n",
       "           6.]),\n",
       " array([ 4.46671239,  5.64267721,  6.81864203,  7.99460685,  9.17057167,\n",
       "        10.34653649, 11.5225013 , 12.69846612, 13.87443094, 15.05039576,\n",
       "        16.22636058]),\n",
       " <BarContainer object of 10 artists>)"
      ]
     },
     "execution_count": 29,
     "metadata": {},
     "output_type": "execute_result"
    },
    {
     "data": {
      "image/png": "[encoded data removed]",
      "text/plain": [
       "<Figure size 640x480 with 1 Axes>"
      ]
     },
     "metadata": {},
     "output_type": "display_data"
    }
   ],
   "source": [
    "plt.hist(df1['Cost'])"
   ]
  },
  {
   "cell_type": "markdown",
   "id": "809efa80-fbd6-4177-8123-518653dccadf",
   "metadata": {},
   "source": [
    "### Observation\n",
    "#### Data looks good after the log transformation but not Normally distributed."
   ]
  },
  {
   "cell_type": "markdown",
   "id": "4516ab74-a70c-4766-9cd7-ab0f2eea2233",
   "metadata": {},
   "source": [
    "### Feature Creation for Date Columns"
   ]
  },
  {
   "cell_type": "code",
   "execution_count": 30,
   "id": "b05d16da-54a2-4e1d-b709-b7274d10996c",
   "metadata": {},
   "outputs": [],
   "source": [
    "# Convert object datatype to datetime\n",
    "df['Scheduled Date'] = pd.to_datetime(df['Scheduled Date'])\n",
    "df['Delivery Date'] = pd.to_datetime(df['Delivery Date'])"
   ]
  },
  {
   "cell_type": "code",
   "execution_count": 31,
   "id": "3c9a6052-b396-49ba-9fe3-69859d91f61b",
   "metadata": {},
   "outputs": [],
   "source": [
    "df['Month'] = pd.to_datetime(df['Scheduled Date']).dt.month\n",
    "df['Year'] = pd.to_datetime(df['Scheduled Date']).dt.year\n",
    "\n",
    "numeric_feature.append('Month')\n",
    "numeric_feature.append('Year')"
   ]
  },
  {
   "cell_type": "markdown",
   "id": "5f84f834-86e3-4935-95a9-a5ff8b39779c",
   "metadata": {},
   "source": [
    "### Drop Unnecessary Column\n",
    "#### Drop Customer Id, Artist Name and Customer Location columns having huge number of unique values.\n",
    "\n",
    "#### Scheduled Date and Delivery Date can be dropped since the required features are extracted form it"
   ]
  },
  {
   "cell_type": "code",
   "execution_count": 32,
   "id": "042e83e3-3078-4ce6-915d-4ea9fb3fa7dd",
   "metadata": {},
   "outputs": [],
   "source": [
    "to_drop_columns = ['Customer Id', 'Artist Name', 'Customer Location', 'Scheduled Date', 'Delivery Date']\n"
   ]
  },
  {
   "cell_type": "code",
   "execution_count": 33,
   "id": "49690868-fcdb-4e9d-a0e5-b706b100bb06",
   "metadata": {},
   "outputs": [],
   "source": [
    "df.drop(columns=to_drop_columns, inplace=True, axis=1)"
   ]
  },
  {
   "cell_type": "code",
   "execution_count": 34,
   "id": "aaab456d-e016-42ca-a093-4f2ca15e42e4",
   "metadata": {},
   "outputs": [],
   "source": [
    "df['Cost'].fillna(df['Cost'].median(), inplace=True)"
   ]
  },
  {
   "cell_type": "code",
   "execution_count": 35,
   "id": "92513462-7e41-4ad2-863d-788daa6b2206",
   "metadata": {},
   "outputs": [
    {
     "data": {
      "text/html": [
       "<div>\n",
       "<style scoped>\n",
       "    .dataframe tbody tr th:only-of-type {\n",
       "        vertical-align: middle;\n",
       "    }\n",
       "\n",
       "    .dataframe tbody tr th {\n",
       "        vertical-align: top;\n",
       "    }\n",
       "\n",
       "    .dataframe thead th {\n",
       "        text-align: right;\n",
       "    }\n",
       "</style>\n",
       "<table border=\"1\" class=\"dataframe\">\n",
       "  <thead>\n",
       "    <tr style=\"text-align: right;\">\n",
       "      <th></th>\n",
       "      <th>Artist Reputation</th>\n",
       "      <th>Height</th>\n",
       "      <th>Width</th>\n",
       "      <th>Weight</th>\n",
       "      <th>Material</th>\n",
       "      <th>Price Of Sculpture</th>\n",
       "      <th>Base Shipping Price</th>\n",
       "      <th>International</th>\n",
       "      <th>Express Shipment</th>\n",
       "      <th>Installation Included</th>\n",
       "      <th>Transport</th>\n",
       "      <th>Fragile</th>\n",
       "      <th>Customer Information</th>\n",
       "      <th>Remote Location</th>\n",
       "      <th>Cost</th>\n",
       "      <th>Month</th>\n",
       "      <th>Year</th>\n",
       "    </tr>\n",
       "  </thead>\n",
       "  <tbody>\n",
       "    <tr>\n",
       "      <th>0</th>\n",
       "      <td>0.26</td>\n",
       "      <td>17.0</td>\n",
       "      <td>6.0</td>\n",
       "      <td>4128.0</td>\n",
       "      <td>Brass</td>\n",
       "      <td>13.91</td>\n",
       "      <td>16.27</td>\n",
       "      <td>Yes</td>\n",
       "      <td>Yes</td>\n",
       "      <td>No</td>\n",
       "      <td>Airways</td>\n",
       "      <td>No</td>\n",
       "      <td>Working Class</td>\n",
       "      <td>No</td>\n",
       "      <td>-283.29</td>\n",
       "      <td>6</td>\n",
       "      <td>2015</td>\n",
       "    </tr>\n",
       "    <tr>\n",
       "      <th>1</th>\n",
       "      <td>0.28</td>\n",
       "      <td>3.0</td>\n",
       "      <td>3.0</td>\n",
       "      <td>61.0</td>\n",
       "      <td>Brass</td>\n",
       "      <td>6.83</td>\n",
       "      <td>15.00</td>\n",
       "      <td>No</td>\n",
       "      <td>No</td>\n",
       "      <td>No</td>\n",
       "      <td>Roadways</td>\n",
       "      <td>No</td>\n",
       "      <td>Working Class</td>\n",
       "      <td>No</td>\n",
       "      <td>-159.96</td>\n",
       "      <td>3</td>\n",
       "      <td>2017</td>\n",
       "    </tr>\n",
       "    <tr>\n",
       "      <th>2</th>\n",
       "      <td>0.07</td>\n",
       "      <td>8.0</td>\n",
       "      <td>5.0</td>\n",
       "      <td>237.0</td>\n",
       "      <td>Clay</td>\n",
       "      <td>4.96</td>\n",
       "      <td>21.18</td>\n",
       "      <td>No</td>\n",
       "      <td>No</td>\n",
       "      <td>No</td>\n",
       "      <td>Roadways</td>\n",
       "      <td>Yes</td>\n",
       "      <td>Working Class</td>\n",
       "      <td>Yes</td>\n",
       "      <td>-154.29</td>\n",
       "      <td>3</td>\n",
       "      <td>2015</td>\n",
       "    </tr>\n",
       "    <tr>\n",
       "      <th>3</th>\n",
       "      <td>0.12</td>\n",
       "      <td>9.0</td>\n",
       "      <td>NaN</td>\n",
       "      <td>NaN</td>\n",
       "      <td>Aluminium</td>\n",
       "      <td>5.81</td>\n",
       "      <td>16.31</td>\n",
       "      <td>No</td>\n",
       "      <td>No</td>\n",
       "      <td>No</td>\n",
       "      <td>NaN</td>\n",
       "      <td>No</td>\n",
       "      <td>Wealthy</td>\n",
       "      <td>Yes</td>\n",
       "      <td>-161.16</td>\n",
       "      <td>5</td>\n",
       "      <td>2015</td>\n",
       "    </tr>\n",
       "    <tr>\n",
       "      <th>4</th>\n",
       "      <td>0.15</td>\n",
       "      <td>17.0</td>\n",
       "      <td>6.0</td>\n",
       "      <td>324.0</td>\n",
       "      <td>Aluminium</td>\n",
       "      <td>3.18</td>\n",
       "      <td>11.94</td>\n",
       "      <td>Yes</td>\n",
       "      <td>Yes</td>\n",
       "      <td>Yes</td>\n",
       "      <td>Airways</td>\n",
       "      <td>No</td>\n",
       "      <td>Working Class</td>\n",
       "      <td>No</td>\n",
       "      <td>-159.23</td>\n",
       "      <td>12</td>\n",
       "      <td>2016</td>\n",
       "    </tr>\n",
       "    <tr>\n",
       "      <th>...</th>\n",
       "      <td>...</td>\n",
       "      <td>...</td>\n",
       "      <td>...</td>\n",
       "      <td>...</td>\n",
       "      <td>...</td>\n",
       "      <td>...</td>\n",
       "      <td>...</td>\n",
       "      <td>...</td>\n",
       "      <td>...</td>\n",
       "      <td>...</td>\n",
       "      <td>...</td>\n",
       "      <td>...</td>\n",
       "      <td>...</td>\n",
       "      <td>...</td>\n",
       "      <td>...</td>\n",
       "      <td>...</td>\n",
       "      <td>...</td>\n",
       "    </tr>\n",
       "    <tr>\n",
       "      <th>6495</th>\n",
       "      <td>0.37</td>\n",
       "      <td>37.0</td>\n",
       "      <td>10.0</td>\n",
       "      <td>16551.0</td>\n",
       "      <td>Brass</td>\n",
       "      <td>28.28</td>\n",
       "      <td>38.46</td>\n",
       "      <td>Yes</td>\n",
       "      <td>Yes</td>\n",
       "      <td>No</td>\n",
       "      <td>Airways</td>\n",
       "      <td>No</td>\n",
       "      <td>Wealthy</td>\n",
       "      <td>Yes</td>\n",
       "      <td>872.43</td>\n",
       "      <td>3</td>\n",
       "      <td>2018</td>\n",
       "    </tr>\n",
       "    <tr>\n",
       "      <th>6496</th>\n",
       "      <td>0.67</td>\n",
       "      <td>15.0</td>\n",
       "      <td>NaN</td>\n",
       "      <td>18981.0</td>\n",
       "      <td>NaN</td>\n",
       "      <td>67.18</td>\n",
       "      <td>27.72</td>\n",
       "      <td>No</td>\n",
       "      <td>No</td>\n",
       "      <td>No</td>\n",
       "      <td>Roadways</td>\n",
       "      <td>No</td>\n",
       "      <td>Working Class</td>\n",
       "      <td>No</td>\n",
       "      <td>1347.02</td>\n",
       "      <td>8</td>\n",
       "      <td>2015</td>\n",
       "    </tr>\n",
       "    <tr>\n",
       "      <th>6497</th>\n",
       "      <td>0.68</td>\n",
       "      <td>19.0</td>\n",
       "      <td>8.0</td>\n",
       "      <td>587.0</td>\n",
       "      <td>Clay</td>\n",
       "      <td>6.92</td>\n",
       "      <td>10.38</td>\n",
       "      <td>Yes</td>\n",
       "      <td>No</td>\n",
       "      <td>No</td>\n",
       "      <td>NaN</td>\n",
       "      <td>Yes</td>\n",
       "      <td>Wealthy</td>\n",
       "      <td>No</td>\n",
       "      <td>354.55</td>\n",
       "      <td>4</td>\n",
       "      <td>2019</td>\n",
       "    </tr>\n",
       "    <tr>\n",
       "      <th>6498</th>\n",
       "      <td>0.02</td>\n",
       "      <td>33.0</td>\n",
       "      <td>9.0</td>\n",
       "      <td>1269377.0</td>\n",
       "      <td>Stone</td>\n",
       "      <td>2929.13</td>\n",
       "      <td>69.76</td>\n",
       "      <td>No</td>\n",
       "      <td>Yes</td>\n",
       "      <td>No</td>\n",
       "      <td>Roadways</td>\n",
       "      <td>No</td>\n",
       "      <td>Working Class</td>\n",
       "      <td>Yes</td>\n",
       "      <td>5037.50</td>\n",
       "      <td>3</td>\n",
       "      <td>2019</td>\n",
       "    </tr>\n",
       "    <tr>\n",
       "      <th>6499</th>\n",
       "      <td>0.18</td>\n",
       "      <td>30.0</td>\n",
       "      <td>13.0</td>\n",
       "      <td>34729.0</td>\n",
       "      <td>Brass</td>\n",
       "      <td>46.63</td>\n",
       "      <td>78.25</td>\n",
       "      <td>No</td>\n",
       "      <td>Yes</td>\n",
       "      <td>No</td>\n",
       "      <td>Airways</td>\n",
       "      <td>No</td>\n",
       "      <td>Working Class</td>\n",
       "      <td>No</td>\n",
       "      <td>722.47</td>\n",
       "      <td>12</td>\n",
       "      <td>2016</td>\n",
       "    </tr>\n",
       "  </tbody>\n",
       "</table>\n",
       "<p>6500 rows × 17 columns</p>\n",
       "</div>"
      ],
      "text/plain": [
       "      Artist Reputation  Height  Width     Weight   Material  \\\n",
       "0                  0.26    17.0    6.0     4128.0      Brass   \n",
       "1                  0.28     3.0    3.0       61.0      Brass   \n",
       "2                  0.07     8.0    5.0      237.0       Clay   \n",
       "3                  0.12     9.0    NaN        NaN  Aluminium   \n",
       "4                  0.15    17.0    6.0      324.0  Aluminium   \n",
       "...                 ...     ...    ...        ...        ...   \n",
       "6495               0.37    37.0   10.0    16551.0      Brass   \n",
       "6496               0.67    15.0    NaN    18981.0        NaN   \n",
       "6497               0.68    19.0    8.0      587.0       Clay   \n",
       "6498               0.02    33.0    9.0  1269377.0      Stone   \n",
       "6499               0.18    30.0   13.0    34729.0      Brass   \n",
       "\n",
       "      Price Of Sculpture  Base Shipping Price International Express Shipment  \\\n",
       "0                  13.91                16.27           Yes              Yes   \n",
       "1                   6.83                15.00            No               No   \n",
       "2                   4.96                21.18            No               No   \n",
       "3                   5.81                16.31            No               No   \n",
       "4                   3.18                11.94           Yes              Yes   \n",
       "...                  ...                  ...           ...              ...   \n",
       "6495               28.28                38.46           Yes              Yes   \n",
       "6496               67.18                27.72            No               No   \n",
       "6497                6.92                10.38           Yes               No   \n",
       "6498             2929.13                69.76            No              Yes   \n",
       "6499               46.63                78.25            No              Yes   \n",
       "\n",
       "     Installation Included Transport Fragile Customer Information  \\\n",
       "0                       No   Airways      No        Working Class   \n",
       "1                       No  Roadways      No        Working Class   \n",
       "2                       No  Roadways     Yes        Working Class   \n",
       "3                       No       NaN      No              Wealthy   \n",
       "4                      Yes   Airways      No        Working Class   \n",
       "...                    ...       ...     ...                  ...   \n",
       "6495                    No   Airways      No              Wealthy   \n",
       "6496                    No  Roadways      No        Working Class   \n",
       "6497                    No       NaN     Yes              Wealthy   \n",
       "6498                    No  Roadways      No        Working Class   \n",
       "6499                    No   Airways      No        Working Class   \n",
       "\n",
       "     Remote Location     Cost  Month  Year  \n",
       "0                 No  -283.29      6  2015  \n",
       "1                 No  -159.96      3  2017  \n",
       "2                Yes  -154.29      3  2015  \n",
       "3                Yes  -161.16      5  2015  \n",
       "4                 No  -159.23     12  2016  \n",
       "...              ...      ...    ...   ...  \n",
       "6495             Yes   872.43      3  2018  \n",
       "6496              No  1347.02      8  2015  \n",
       "6497              No   354.55      4  2019  \n",
       "6498             Yes  5037.50      3  2019  \n",
       "6499              No   722.47     12  2016  \n",
       "\n",
       "[6500 rows x 17 columns]"
      ]
     },
     "execution_count": 35,
     "metadata": {},
     "output_type": "execute_result"
    }
   ],
   "source": [
    "df"
   ]
  },
  {
   "cell_type": "markdown",
   "id": "53e67d62-5365-462b-a80a-d5f027572252",
   "metadata": {},
   "source": [
    "# Model Building"
   ]
  },
  {
   "cell_type": "code",
   "execution_count": 36,
   "id": "c8fe89a6-987b-46d1-ae2e-ab684545e524",
   "metadata": {},
   "outputs": [],
   "source": [
    "from sklearn.preprocessing import StandardScaler, OneHotEncoder, PowerTransformer, RobustScaler\n",
    "from sklearn.compose import ColumnTransformer\n",
    "from sklearn.pipeline import Pipeline\n",
    "from sklearn.impute import SimpleImputer\n",
    "from cuml.metrics import r2_score, mean_squared_error, mean_absolute_error\n",
    "from cuml.neighbors import KNeighborsRegressor\n",
    "from sklearn.tree import DecisionTreeRegressor\n",
    "from cuml.ensemble import RandomForestRegressor\n",
    "from cuml.svm import SVR\n",
    "from cuml.linear_model import LinearRegression, LogisticRegression, Ridge, Lasso\n",
    "from cuml.model_selection import GridSearchCV\n",
    "from sklearn.model_selection import KFold, train_test_split\n",
    "from catboost import CatBoostRegressor\n",
    "from xgboost import XGBRegressor\n",
    "import cupy"
   ]
  },
  {
   "cell_type": "markdown",
   "id": "0ce5a7cb-6756-4853-9dc9-9f9a8b64dbd8",
   "metadata": {
    "scrolled": true
   },
   "source": [
    "from dask.distributed import Client\n",
    "import joblib\n",
    "client= Client(processes=False)"
   ]
  },
  {
   "cell_type": "code",
   "execution_count": 38,
   "id": "962e90b1-7fa4-4481-a057-311c19587d41",
   "metadata": {},
   "outputs": [],
   "source": [
    "X=df.drop(columns=['Cost'], axis=1)\n",
    "y = np.abs(df['Cost'])\n",
    "y = np.log1p(y)"
   ]
  },
  {
   "cell_type": "code",
   "execution_count": 39,
   "id": "b50af54e-eb7d-4cde-9386-d3e1622e08d2",
   "metadata": {},
   "outputs": [],
   "source": [
    "y = pd.DataFrame(y)"
   ]
  },
  {
   "cell_type": "markdown",
   "id": "796c34d1-048b-4ade-9941-45873f68284e",
   "metadata": {},
   "source": [
    "# Train Test Split"
   ]
  },
  {
   "cell_type": "code",
   "execution_count": 40,
   "id": "ce8039de-cc6a-45dd-9128-4b707543dd89",
   "metadata": {},
   "outputs": [],
   "source": [
    "X_train, X_test, y_train, y_test = train_test_split(X,y, shuffle=True, test_size=0.2)"
   ]
  },
  {
   "cell_type": "code",
   "execution_count": null,
   "id": "974e7ad1-c76c-4ab6-9dec-a094d630d7cf",
   "metadata": {},
   "outputs": [],
   "source": []
  },
  {
   "cell_type": "code",
   "execution_count": 41,
   "id": "da7f1265-9774-458a-ad9a-0513cd6fc59c",
   "metadata": {},
   "outputs": [
    {
     "name": "stdout",
     "output_type": "stream",
     "text": [
      "(5200, 16) (1300, 16)\n",
      "(5200, 1) (1300, 1)\n"
     ]
    }
   ],
   "source": [
    "print(X_train.shape, X_test.shape)\n",
    "print(y_train.shape, y_test.shape)"
   ]
  },
  {
   "cell_type": "code",
   "execution_count": 42,
   "id": "5b592517-d3eb-4446-acbd-8f74e79f597f",
   "metadata": {},
   "outputs": [
    {
     "data": {
      "text/html": [
       "<div>\n",
       "<style scoped>\n",
       "    .dataframe tbody tr th:only-of-type {\n",
       "        vertical-align: middle;\n",
       "    }\n",
       "\n",
       "    .dataframe tbody tr th {\n",
       "        vertical-align: top;\n",
       "    }\n",
       "\n",
       "    .dataframe thead th {\n",
       "        text-align: right;\n",
       "    }\n",
       "</style>\n",
       "<table border=\"1\" class=\"dataframe\">\n",
       "  <thead>\n",
       "    <tr style=\"text-align: right;\">\n",
       "      <th></th>\n",
       "      <th>Artist Reputation</th>\n",
       "      <th>Height</th>\n",
       "      <th>Width</th>\n",
       "      <th>Weight</th>\n",
       "      <th>Material</th>\n",
       "      <th>Price Of Sculpture</th>\n",
       "      <th>Base Shipping Price</th>\n",
       "      <th>International</th>\n",
       "      <th>Express Shipment</th>\n",
       "      <th>Installation Included</th>\n",
       "      <th>Transport</th>\n",
       "      <th>Fragile</th>\n",
       "      <th>Customer Information</th>\n",
       "      <th>Remote Location</th>\n",
       "      <th>Month</th>\n",
       "      <th>Year</th>\n",
       "    </tr>\n",
       "  </thead>\n",
       "  <tbody>\n",
       "    <tr>\n",
       "      <th>2577</th>\n",
       "      <td>0.56</td>\n",
       "      <td>47.0</td>\n",
       "      <td>17.0</td>\n",
       "      <td>NaN</td>\n",
       "      <td>Marble</td>\n",
       "      <td>23949.03</td>\n",
       "      <td>76.31</td>\n",
       "      <td>No</td>\n",
       "      <td>Yes</td>\n",
       "      <td>No</td>\n",
       "      <td>Roadways</td>\n",
       "      <td>Yes</td>\n",
       "      <td>Working Class</td>\n",
       "      <td>Yes</td>\n",
       "      <td>8</td>\n",
       "      <td>2017</td>\n",
       "    </tr>\n",
       "    <tr>\n",
       "      <th>3577</th>\n",
       "      <td>0.67</td>\n",
       "      <td>23.0</td>\n",
       "      <td>9.0</td>\n",
       "      <td>928.0</td>\n",
       "      <td>Aluminium</td>\n",
       "      <td>5.24</td>\n",
       "      <td>21.51</td>\n",
       "      <td>No</td>\n",
       "      <td>Yes</td>\n",
       "      <td>No</td>\n",
       "      <td>Airways</td>\n",
       "      <td>No</td>\n",
       "      <td>Working Class</td>\n",
       "      <td>No</td>\n",
       "      <td>3</td>\n",
       "      <td>2015</td>\n",
       "    </tr>\n",
       "    <tr>\n",
       "      <th>1686</th>\n",
       "      <td>0.24</td>\n",
       "      <td>4.0</td>\n",
       "      <td>4.0</td>\n",
       "      <td>234.0</td>\n",
       "      <td>Brass</td>\n",
       "      <td>4.49</td>\n",
       "      <td>12.60</td>\n",
       "      <td>No</td>\n",
       "      <td>Yes</td>\n",
       "      <td>Yes</td>\n",
       "      <td>Roadways</td>\n",
       "      <td>No</td>\n",
       "      <td>Working Class</td>\n",
       "      <td>No</td>\n",
       "      <td>12</td>\n",
       "      <td>2017</td>\n",
       "    </tr>\n",
       "    <tr>\n",
       "      <th>2436</th>\n",
       "      <td>NaN</td>\n",
       "      <td>4.0</td>\n",
       "      <td>3.0</td>\n",
       "      <td>16.0</td>\n",
       "      <td>Aluminium</td>\n",
       "      <td>3.43</td>\n",
       "      <td>24.36</td>\n",
       "      <td>No</td>\n",
       "      <td>Yes</td>\n",
       "      <td>No</td>\n",
       "      <td>Airways</td>\n",
       "      <td>No</td>\n",
       "      <td>Wealthy</td>\n",
       "      <td>No</td>\n",
       "      <td>11</td>\n",
       "      <td>2018</td>\n",
       "    </tr>\n",
       "    <tr>\n",
       "      <th>4814</th>\n",
       "      <td>0.76</td>\n",
       "      <td>23.0</td>\n",
       "      <td>13.0</td>\n",
       "      <td>16068.0</td>\n",
       "      <td>Bronze</td>\n",
       "      <td>145.08</td>\n",
       "      <td>98.27</td>\n",
       "      <td>No</td>\n",
       "      <td>No</td>\n",
       "      <td>No</td>\n",
       "      <td>Roadways</td>\n",
       "      <td>No</td>\n",
       "      <td>Working Class</td>\n",
       "      <td>No</td>\n",
       "      <td>12</td>\n",
       "      <td>2017</td>\n",
       "    </tr>\n",
       "    <tr>\n",
       "      <th>...</th>\n",
       "      <td>...</td>\n",
       "      <td>...</td>\n",
       "      <td>...</td>\n",
       "      <td>...</td>\n",
       "      <td>...</td>\n",
       "      <td>...</td>\n",
       "      <td>...</td>\n",
       "      <td>...</td>\n",
       "      <td>...</td>\n",
       "      <td>...</td>\n",
       "      <td>...</td>\n",
       "      <td>...</td>\n",
       "      <td>...</td>\n",
       "      <td>...</td>\n",
       "      <td>...</td>\n",
       "      <td>...</td>\n",
       "    </tr>\n",
       "    <tr>\n",
       "      <th>1169</th>\n",
       "      <td>0.53</td>\n",
       "      <td>21.0</td>\n",
       "      <td>13.0</td>\n",
       "      <td>432.0</td>\n",
       "      <td>Wood</td>\n",
       "      <td>4.16</td>\n",
       "      <td>11.85</td>\n",
       "      <td>No</td>\n",
       "      <td>No</td>\n",
       "      <td>Yes</td>\n",
       "      <td>Airways</td>\n",
       "      <td>No</td>\n",
       "      <td>Working Class</td>\n",
       "      <td>Yes</td>\n",
       "      <td>6</td>\n",
       "      <td>2019</td>\n",
       "    </tr>\n",
       "    <tr>\n",
       "      <th>4525</th>\n",
       "      <td>0.31</td>\n",
       "      <td>33.0</td>\n",
       "      <td>9.0</td>\n",
       "      <td>1675.0</td>\n",
       "      <td>Aluminium</td>\n",
       "      <td>3.40</td>\n",
       "      <td>15.08</td>\n",
       "      <td>Yes</td>\n",
       "      <td>No</td>\n",
       "      <td>Yes</td>\n",
       "      <td>Roadways</td>\n",
       "      <td>No</td>\n",
       "      <td>Working Class</td>\n",
       "      <td>No</td>\n",
       "      <td>11</td>\n",
       "      <td>2018</td>\n",
       "    </tr>\n",
       "    <tr>\n",
       "      <th>328</th>\n",
       "      <td>0.04</td>\n",
       "      <td>42.0</td>\n",
       "      <td>15.0</td>\n",
       "      <td>4408968.0</td>\n",
       "      <td>NaN</td>\n",
       "      <td>3121.58</td>\n",
       "      <td>55.29</td>\n",
       "      <td>Yes</td>\n",
       "      <td>Yes</td>\n",
       "      <td>Yes</td>\n",
       "      <td>NaN</td>\n",
       "      <td>No</td>\n",
       "      <td>Working Class</td>\n",
       "      <td>No</td>\n",
       "      <td>9</td>\n",
       "      <td>2017</td>\n",
       "    </tr>\n",
       "    <tr>\n",
       "      <th>770</th>\n",
       "      <td>NaN</td>\n",
       "      <td>19.0</td>\n",
       "      <td>6.0</td>\n",
       "      <td>NaN</td>\n",
       "      <td>NaN</td>\n",
       "      <td>419.71</td>\n",
       "      <td>48.80</td>\n",
       "      <td>No</td>\n",
       "      <td>No</td>\n",
       "      <td>Yes</td>\n",
       "      <td>Waterways</td>\n",
       "      <td>No</td>\n",
       "      <td>Working Class</td>\n",
       "      <td>No</td>\n",
       "      <td>9</td>\n",
       "      <td>2018</td>\n",
       "    </tr>\n",
       "    <tr>\n",
       "      <th>3186</th>\n",
       "      <td>0.92</td>\n",
       "      <td>6.0</td>\n",
       "      <td>5.0</td>\n",
       "      <td>NaN</td>\n",
       "      <td>Brass</td>\n",
       "      <td>4.82</td>\n",
       "      <td>12.32</td>\n",
       "      <td>Yes</td>\n",
       "      <td>Yes</td>\n",
       "      <td>Yes</td>\n",
       "      <td>NaN</td>\n",
       "      <td>No</td>\n",
       "      <td>Wealthy</td>\n",
       "      <td>No</td>\n",
       "      <td>3</td>\n",
       "      <td>2018</td>\n",
       "    </tr>\n",
       "  </tbody>\n",
       "</table>\n",
       "<p>5200 rows × 16 columns</p>\n",
       "</div>"
      ],
      "text/plain": [
       "      Artist Reputation  Height  Width     Weight   Material  \\\n",
       "2577               0.56    47.0   17.0        NaN     Marble   \n",
       "3577               0.67    23.0    9.0      928.0  Aluminium   \n",
       "1686               0.24     4.0    4.0      234.0      Brass   \n",
       "2436                NaN     4.0    3.0       16.0  Aluminium   \n",
       "4814               0.76    23.0   13.0    16068.0     Bronze   \n",
       "...                 ...     ...    ...        ...        ...   \n",
       "1169               0.53    21.0   13.0      432.0       Wood   \n",
       "4525               0.31    33.0    9.0     1675.0  Aluminium   \n",
       "328                0.04    42.0   15.0  4408968.0        NaN   \n",
       "770                 NaN    19.0    6.0        NaN        NaN   \n",
       "3186               0.92     6.0    5.0        NaN      Brass   \n",
       "\n",
       "      Price Of Sculpture  Base Shipping Price International Express Shipment  \\\n",
       "2577            23949.03                76.31            No              Yes   \n",
       "3577                5.24                21.51            No              Yes   \n",
       "1686                4.49                12.60            No              Yes   \n",
       "2436                3.43                24.36            No              Yes   \n",
       "4814              145.08                98.27            No               No   \n",
       "...                  ...                  ...           ...              ...   \n",
       "1169                4.16                11.85            No               No   \n",
       "4525                3.40                15.08           Yes               No   \n",
       "328              3121.58                55.29           Yes              Yes   \n",
       "770               419.71                48.80            No               No   \n",
       "3186                4.82                12.32           Yes              Yes   \n",
       "\n",
       "     Installation Included  Transport Fragile Customer Information  \\\n",
       "2577                    No   Roadways     Yes        Working Class   \n",
       "3577                    No    Airways      No        Working Class   \n",
       "1686                   Yes   Roadways      No        Working Class   \n",
       "2436                    No    Airways      No              Wealthy   \n",
       "4814                    No   Roadways      No        Working Class   \n",
       "...                    ...        ...     ...                  ...   \n",
       "1169                   Yes    Airways      No        Working Class   \n",
       "4525                   Yes   Roadways      No        Working Class   \n",
       "328                    Yes        NaN      No        Working Class   \n",
       "770                    Yes  Waterways      No        Working Class   \n",
       "3186                   Yes        NaN      No              Wealthy   \n",
       "\n",
       "     Remote Location  Month  Year  \n",
       "2577             Yes      8  2017  \n",
       "3577              No      3  2015  \n",
       "1686              No     12  2017  \n",
       "2436              No     11  2018  \n",
       "4814              No     12  2017  \n",
       "...              ...    ...   ...  \n",
       "1169             Yes      6  2019  \n",
       "4525              No     11  2018  \n",
       "328               No      9  2017  \n",
       "770               No      9  2018  \n",
       "3186              No      3  2018  \n",
       "\n",
       "[5200 rows x 16 columns]"
      ]
     },
     "execution_count": 42,
     "metadata": {},
     "output_type": "execute_result"
    }
   ],
   "source": [
    "X_train"
   ]
  },
  {
   "cell_type": "markdown",
   "id": "5732d54f-1e08-456d-906a-de1d6bcb3700",
   "metadata": {},
   "source": [
    "## Feature Encoding and Scaling\n",
    "### Selecting Numerical and Categorical features for feature SCaling"
   ]
  },
  {
   "cell_type": "code",
   "execution_count": 43,
   "id": "bb09f63b-484f-43bf-b41d-5cf86b71588e",
   "metadata": {},
   "outputs": [
    {
     "data": {
      "text/plain": [
       "['Artist Reputation',\n",
       " 'Height',\n",
       " 'Width',\n",
       " 'Weight',\n",
       " 'Price Of Sculpture',\n",
       " 'Base Shipping Price',\n",
       " 'Month',\n",
       " 'Year']"
      ]
     },
     "execution_count": 43,
     "metadata": {},
     "output_type": "execute_result"
    }
   ],
   "source": [
    "numeric_feature"
   ]
  },
  {
   "cell_type": "code",
   "execution_count": 44,
   "id": "c7e7a980-b594-462b-b4b9-d4cebec85814",
   "metadata": {},
   "outputs": [
    {
     "data": {
      "text/plain": [
       "(['Artist Reputation',\n",
       "  'Height',\n",
       "  'Width',\n",
       "  'Base Shipping Price',\n",
       "  'Month',\n",
       "  'Year'],\n",
       " ['Material',\n",
       "  'International',\n",
       "  'Express Shipment',\n",
       "  'Installation Included',\n",
       "  'Transport',\n",
       "  'Fragile',\n",
       "  'Customer Information',\n",
       "  'Remote Location'],\n",
       " ['Weight', 'Price Of Sculpture'])"
      ]
     },
     "execution_count": 44,
     "metadata": {},
     "output_type": "execute_result"
    }
   ],
   "source": [
    "numeric_features = [feature for feature in numeric_feature if feature not in outlier_features]\n",
    "Categorical_features = [feature for feature in non_numeric_feature if feature not in to_drop_columns]\n",
    "\n",
    "(numeric_features), (Categorical_features), (outlier_features)"
   ]
  },
  {
   "cell_type": "markdown",
   "id": "d5000bb1-4eb5-4313-a6dd-79b36972ede4",
   "metadata": {},
   "source": [
    "### Observation:\n",
    "#### Mean imputer: Since we handeled outlier by powertransformer for the continuous features the mean and median of the features are nearly same. When there are no outliers mean performs an a better imputer.\n",
    "#### Standardscaler: As the features distribution are nearly normal we use standard scaler.\n",
    "#### Power Transformer: Since avg_glucose_level are skewed we use Power Transformer on them"
   ]
  },
  {
   "cell_type": "markdown",
   "id": "2e0e0dbd-eb87-460b-b2fb-04c5869c4506",
   "metadata": {},
   "source": [
    "## Making Pipeline for Feature Scaling"
   ]
  },
  {
   "cell_type": "code",
   "execution_count": 45,
   "id": "4da3d7b6-01f1-423c-88be-bdcf00fd2a45",
   "metadata": {},
   "outputs": [],
   "source": [
    "numeric_feature_pipeline = Pipeline(\n",
    "    steps= [\n",
    "        ('imputer', SimpleImputer(strategy='mean')),\n",
    "        ('scaler', RobustScaler())\n",
    "    ]\n",
    ")\n",
    "\n",
    "categorical_feature_pipeline = Pipeline(\n",
    "    steps=[\n",
    "        ('imputer',SimpleImputer(strategy='most_frequent')),\n",
    "        ('one_hot_encoder', OneHotEncoder(drop='first'))\n",
    "    ]\n",
    ")\n",
    "\n",
    "outlier_feature_pipeline = Pipeline(\n",
    "    steps=[\n",
    "        ('imputer', SimpleImputer(strategy='median')),\n",
    "        ('transformer', PowerTransformer(method='box-cox', standardize=True))\n",
    "    ]\n",
    ")\n",
    "\n",
    "preprocessor = ColumnTransformer(\n",
    "    [\n",
    "        ('Numeric Pipeline', numeric_feature_pipeline, numeric_features),\n",
    "        ('Categorical Pipeline', categorical_feature_pipeline, Categorical_features),\n",
    "        ('Outliers Feature Pipeline', outlier_feature_pipeline, outlier_features)\n",
    "    ]\n",
    ")"
   ]
  },
  {
   "cell_type": "code",
   "execution_count": 46,
   "id": "17771511-d781-4688-91f2-f2fe150ab655",
   "metadata": {},
   "outputs": [],
   "source": [
    "X_train = preprocessor.fit_transform(X_train)\n",
    "X_test = preprocessor.transform(X_test)"
   ]
  },
  {
   "cell_type": "code",
   "execution_count": 47,
   "id": "4f9df356-485e-4943-9adc-66623d9c7f45",
   "metadata": {},
   "outputs": [],
   "source": [
    "X_train = X_train.astype('float32')\n",
    "y_train = y_train.astype('float32')\n",
    "X_test = X_test.astype('float32')\n",
    "y_test = y_test.astype('float32')"
   ]
  },
  {
   "cell_type": "markdown",
   "id": "f6213baf-d6bb-4dd9-9324-f7ef5e10d782",
   "metadata": {},
   "source": [
    "X_train = pd.DataFrame(X_train)\n",
    "y_train = pd.DataFrame(y_train)\n",
    "X_test = pd.DataFrame(X_test)\n",
    "y_test = pd.DataFrame(y_test)"
   ]
  },
  {
   "cell_type": "markdown",
   "id": "92cd870c-cb41-4c9f-bece-469505c662a8",
   "metadata": {},
   "source": [
    "X_train = X_train.to_cupy()\n",
    "y_train = y_train.to_cupy()\n",
    "X_test = X_test.to_cupy()\n",
    "y_test = y_test.to_cupy()\n"
   ]
  },
  {
   "cell_type": "code",
   "execution_count": 48,
   "id": "137bb00a-e377-466b-97d3-f77ed9ef67b9",
   "metadata": {},
   "outputs": [],
   "source": [
    "#X_train = X_train\n",
    "#X_test = np.asarray(X_test)"
   ]
  },
  {
   "cell_type": "markdown",
   "id": "e49ee25d-4e0f-4050-8d4f-1412ce3fba6f",
   "metadata": {},
   "source": [
    "## Model Selection\n",
    "#### Here should understand the Various Classification models with default values from these models we can choose top 4 with Highest Accuracy score and proceed with HyperParameter Tuning"
   ]
  },
  {
   "cell_type": "code",
   "execution_count": 49,
   "id": "1282fae8-9e68-4824-8f92-4c8e0c8e430b",
   "metadata": {},
   "outputs": [],
   "source": [
    "# functions which takes true and predicted values to calculate metrics\n",
    "def evaluate_reg(true, predicted):\n",
    "    mae = mean_absolute_error(true, predicted)\n",
    "    mse = mean_squared_error(true, predicted)\n",
    "    rmse = np.sqrt(mean_squared_error(true, predicted))\n",
    "    r2_Score = r2_score(true, predicted)\n",
    "    return mae, mse, rmse, r2_Score"
   ]
  },
  {
   "cell_type": "code",
   "execution_count": 50,
   "id": "85e57244-0e00-44dc-8f41-5f8435d18b81",
   "metadata": {},
   "outputs": [],
   "source": [
    "# function which can evaluate models and return a report \n",
    "def evaluate_models(X_train, X_test, y_train, y_test, models):\n",
    "    '''\n",
    "    This function takes in X and y and models dictionary as input\n",
    "    It splits the data into Train Test split\n",
    "    Iterates through the given model dictionary and evaluates the metrics\n",
    "    Returns: Dataframe which contains report of all models metrics with cost\n",
    "    '''  \n",
    "\n",
    "    models_list = []\n",
    "    r2_list = []\n",
    "\n",
    "    for i in range(0, len(list(models))):\n",
    "        model = list(models.values())[i]\n",
    "        \n",
    "        #with joblib.parallel_backend('dask'):\n",
    "        model.fit(X_train, y_train)\n",
    "\n",
    "        # Make Predictions\n",
    "        y_train_predict = model.predict(X_train)\n",
    "        y_test_predict = model.predict(X_test)\n",
    "\n",
    "        # Evaluate train and test datasets\n",
    "        model_train_mae, model_train_mse, model_train_rmse, model_train_r2Score = evaluate_reg(y_train, y_train_predict)\n",
    "        model_test_mae, model_test_mse, model_test_rmse, model_test_r2Score = evaluate_reg(y_test, y_test_predict)\n",
    "\n",
    "        print(list(models.keys())[i])\n",
    "        models_list.append(list(models.keys())[i])\n",
    "\n",
    "        print('Model Performance for Training Set')\n",
    "        print(\"Mean Absolute Error: {:.4f}\".format(model_train_mae))\n",
    "        print('Mean Squared Error: {:.4f}'.format(model_train_mse))\n",
    "        print('Root Mean Squared Error: {:.4f}'.format(model_train_rmse))\n",
    "        print('r2 Score: {:.4f}'.format(model_train_r2Score))\n",
    "\n",
    "        print('Model Performance for Test Set')\n",
    "        print(\"Mean Absolute Error: {:.4f}\".format(model_test_mae))\n",
    "        print('Mean Squared Error: {:.4f}'.format(model_test_mse))\n",
    "        print('Root Mean Squared Error: {:.4f}'.format(model_test_rmse))\n",
    "        print('r2 Score: {:.4f}'.format(model_test_r2Score))\n",
    "        r2_list.append(model_test_r2Score)\n",
    "\n",
    "        print('='*35)\n",
    "        print('\\n')\n",
    "\n",
    "    report = pd.DataFrame(list(zip(models_list, r2_list)), columns=['Model Name','r2_Score']).sort_values(by=['r2_Score'], ascending=False)\n",
    "\n",
    "    return report\n",
    "        "
   ]
  },
  {
   "cell_type": "code",
   "execution_count": 51,
   "id": "4869ae82-f932-45ad-a5da-61d26a2878ab",
   "metadata": {},
   "outputs": [],
   "source": [
    "# Initializing Models \n",
    "models = {\n",
    "    'Linear Regression': LinearRegression(),\n",
    "    'K-Neighbour Regression': KNeighborsRegressor(),\n",
    "    'Random Forest Regressor': RandomForestRegressor(),\n",
    "    'Decision Tree': DecisionTreeRegressor(),\n",
    "    'XGBRegressor': XGBRegressor(tree_method=\"hist\", device=\"cuda\"),\n",
    "    'CatBoost Regressor': CatBoostRegressor(verbose=False, max_depth=5,task_type=\"GPU\"),\n",
    "    #'Adaboost Regressor': AdaBoostRegressor(),\n",
    "    'SVR': SVR()\n",
    "}"
   ]
  },
  {
   "cell_type": "code",
   "execution_count": 52,
   "id": "bf270835-2e20-446e-b665-2fe7da458910",
   "metadata": {
    "scrolled": true
   },
   "outputs": [
    {
     "name": "stdout",
     "output_type": "stream",
     "text": [
      "Linear Regression\n",
      "Model Performance for Training Set\n",
      "Mean Absolute Error: 0.4947\n",
      "Mean Squared Error: 0.5244\n",
      "Root Mean Squared Error: 0.7242\n",
      "r2 Score: 0.8086\n",
      "Model Performance for Test Set\n",
      "Mean Absolute Error: 0.5227\n",
      "Mean Squared Error: 0.5735\n",
      "Root Mean Squared Error: 0.7573\n",
      "r2 Score: 0.7846\n",
      "===================================\n",
      "\n",
      "\n",
      "K-Neighbour Regression\n",
      "Model Performance for Training Set\n",
      "Mean Absolute Error: 0.3310\n",
      "Mean Squared Error: 0.2776\n",
      "Root Mean Squared Error: 0.5269\n",
      "r2 Score: 0.8987\n",
      "Model Performance for Test Set\n",
      "Mean Absolute Error: 0.4024\n",
      "Mean Squared Error: 0.4280\n",
      "Root Mean Squared Error: 0.6542\n",
      "r2 Score: 0.8392\n",
      "===================================\n",
      "\n",
      "\n",
      "Random Forest Regressor\n",
      "Model Performance for Training Set\n",
      "Mean Absolute Error: 0.2235\n",
      "Mean Squared Error: 0.0874\n",
      "Root Mean Squared Error: 0.2957\n",
      "r2 Score: 0.9681\n",
      "Model Performance for Test Set\n",
      "Mean Absolute Error: 0.4631\n",
      "Mean Squared Error: 0.3948\n",
      "Root Mean Squared Error: 0.6283\n",
      "r2 Score: 0.8517\n",
      "===================================\n",
      "\n",
      "\n",
      "Decision Tree\n",
      "Model Performance for Training Set\n",
      "Mean Absolute Error: 0.0000\n",
      "Mean Squared Error: 0.0000\n",
      "Root Mean Squared Error: 0.0000\n",
      "r2 Score: 1.0000\n",
      "Model Performance for Test Set\n",
      "Mean Absolute Error: 0.3201\n",
      "Mean Squared Error: 0.2116\n",
      "Root Mean Squared Error: 0.4600\n",
      "r2 Score: 0.9205\n",
      "===================================\n",
      "\n",
      "\n",
      "SVR\n",
      "Model Performance for Training Set\n",
      "Mean Absolute Error: 0.2197\n",
      "Mean Squared Error: 0.1959\n",
      "Root Mean Squared Error: 0.4426\n",
      "r2 Score: 0.9285\n",
      "Model Performance for Test Set\n",
      "Mean Absolute Error: 0.2691\n",
      "Mean Squared Error: 0.2864\n",
      "Root Mean Squared Error: 0.5352\n",
      "r2 Score: 0.8924\n",
      "===================================\n",
      "\n",
      "\n"
     ]
    }
   ],
   "source": [
    "base_report = evaluate_models(X_train, X_test, y_train, y_test, models)"
   ]
  },
  {
   "cell_type": "code",
   "execution_count": 53,
   "id": "c273fe20-2f84-4034-b486-7614200e6863",
   "metadata": {},
   "outputs": [
    {
     "data": {
      "text/html": [
       "<div>\n",
       "<style scoped>\n",
       "    .dataframe tbody tr th:only-of-type {\n",
       "        vertical-align: middle;\n",
       "    }\n",
       "\n",
       "    .dataframe tbody tr th {\n",
       "        vertical-align: top;\n",
       "    }\n",
       "\n",
       "    .dataframe thead th {\n",
       "        text-align: right;\n",
       "    }\n",
       "</style>\n",
       "<table border=\"1\" class=\"dataframe\">\n",
       "  <thead>\n",
       "    <tr style=\"text-align: right;\">\n",
       "      <th></th>\n",
       "      <th>Model Name</th>\n",
       "      <th>r2_Score</th>\n",
       "    </tr>\n",
       "  </thead>\n",
       "  <tbody>\n",
       "    <tr>\n",
       "      <th>3</th>\n",
       "      <td>Decision Tree</td>\n",
       "      <td>0.920519</td>\n",
       "    </tr>\n",
       "    <tr>\n",
       "      <th>4</th>\n",
       "      <td>SVR</td>\n",
       "      <td>0.892423</td>\n",
       "    </tr>\n",
       "    <tr>\n",
       "      <th>2</th>\n",
       "      <td>Random Forest Regressor</td>\n",
       "      <td>0.851708</td>\n",
       "    </tr>\n",
       "    <tr>\n",
       "      <th>1</th>\n",
       "      <td>K-Neighbour Regression</td>\n",
       "      <td>0.839221</td>\n",
       "    </tr>\n",
       "    <tr>\n",
       "      <th>0</th>\n",
       "      <td>Linear Regression</td>\n",
       "      <td>0.784592</td>\n",
       "    </tr>\n",
       "  </tbody>\n",
       "</table>\n",
       "</div>"
      ],
      "text/plain": [
       "                Model Name  r2_Score\n",
       "3            Decision Tree  0.920519\n",
       "4                      SVR  0.892423\n",
       "2  Random Forest Regressor  0.851708\n",
       "1   K-Neighbour Regression  0.839221\n",
       "0        Linear Regression  0.784592"
      ]
     },
     "execution_count": 53,
     "metadata": {},
     "output_type": "execute_result"
    }
   ],
   "source": [
    "base_report"
   ]
  },
  {
   "cell_type": "markdown",
   "id": "834827de-2019-4466-b43c-9fa4b80948b3",
   "metadata": {},
   "source": [
    "## Initializing few parameters for hyperparameter tuning"
   ]
  },
  {
   "cell_type": "code",
   "execution_count": 54,
   "id": "4ffb4621-5939-4b80-8704-8b05da5ef58d",
   "metadata": {},
   "outputs": [],
   "source": [
    "svr_params = {\n",
    "    'C': [1, 10, 12, 14, 16, 18, 20, 22],\n",
    "    'gamma': [0.001, 0.01, 0.1, 1, 2, 5],\n",
    "    'epsilon': [0.001, 0.01, 0.1, 1, 2, 4],\n",
    "    'kernel': (\"rbf\", \"poly\", \"sigmoid\")\n",
    "    }\n",
    "cat_params = {\n",
    "    'learning_rate': [0.03, 0.06],\n",
    "    'depth':[3, 6, 9],\n",
    "    'l2_leaf_reg': [2, 3, 4],\n",
    "    'boosting_type': ['Ordered', 'Plain']\n",
    "}\n",
    "rf_params = { \n",
    "    'n_estimators': [25, 50, 100, 150], \n",
    "    'max_features': ['sqrt', 'log2', None], \n",
    "    'max_depth': [3, 6, 9], \n",
    "    'max_leaf_nodes': [3, 6, 9], \n",
    "} "
   ]
  },
  {
   "cell_type": "code",
   "execution_count": 55,
   "id": "ee4c7cf9-2c79-4c36-a373-3d2796e4a86d",
   "metadata": {},
   "outputs": [],
   "source": [
    "# Model list for hyperparameter tuning\n",
    "randomsearch_model = [\n",
    "    ('SVR', SVR(), svr_params),\n",
    "    ('RandomForestRegressor', RandomForestRegressor(), rf_params)\n",
    "]"
   ]
  },
  {
   "cell_type": "code",
   "execution_count": 56,
   "id": "96d537d0-1421-4c22-a322-82427124973a",
   "metadata": {},
   "outputs": [],
   "source": [
    "kf = KFold(n_splits=3, random_state=1, shuffle=True)"
   ]
  },
  {
   "cell_type": "code",
   "execution_count": null,
   "id": "78675780-de01-4077-b0f6-acd74b71030e",
   "metadata": {},
   "outputs": [
    {
     "name": "stdout",
     "output_type": "stream",
     "text": [
      "Fitting 3 folds for each of 864 candidates, totalling 2592 fits\n"
     ]
    }
   ],
   "source": [
    "model_param = {}\n",
    "for name, model, params in randomsearch_model:\n",
    "    random = GridSearchCV(estimator=model,\n",
    "                                param_grid=params,\n",
    "                                cv=kf,\n",
    "                                verbose=1,\n",
    "                                n_jobs=-1)\n",
    "    random.fit(X_train, y_train)\n",
    "    model_param[name] = random.best_params_\n",
    "\n",
    "for model_name in model_param:\n",
    "    print(f'--------- Best Params for {model_name} ---------')\n",
    "    print(model_param[model_name])"
   ]
  },
  {
   "cell_type": "markdown",
   "id": "1d8d0314-63aa-41cb-a0c7-03711eb8530f",
   "metadata": {},
   "source": [
    "## reInitialize models with best parameters"
   ]
  },
  {
   "cell_type": "code",
   "execution_count": null,
   "id": "dc288911-e7c5-4a47-ad35-31689b7a07dd",
   "metadata": {},
   "outputs": [],
   "source": [
    "models = {\n",
    "    'Random Forest Regressor': RandomForestRegressor(**model_param['RandomForestRegressor'], n_jobs=-1),\n",
    "    #'Catboost': CatBoostRegressor(**model_param['Catboost'], verbose=False),\n",
    "    'SVR': SVR(**model_param['SVR'], verbose=False)\n",
    "}"
   ]
  },
  {
   "cell_type": "code",
   "execution_count": null,
   "id": "9004a032-b0e2-4de8-8534-cd5886a66da5",
   "metadata": {},
   "outputs": [],
   "source": [
    "retrained_report = evaluate_models(X_train, X_test, y_train, y_test, models)"
   ]
  },
  {
   "cell_type": "code",
   "execution_count": null,
   "id": "33e46bb6-ebc3-48fd-b17b-0f8074b0b9a5",
   "metadata": {},
   "outputs": [],
   "source": [
    "retrained_report"
   ]
  },
  {
   "cell_type": "markdown",
   "id": "b7f58dfd-4e5f-4844-b6e9-ca6f3c5cd88a",
   "metadata": {},
   "source": [
    "### Best Model is"
   ]
  },
  {
   "cell_type": "markdown",
   "id": "0b1c6bf8-0969-449d-a066-3fda03590a10",
   "metadata": {},
   "source": []
  },
  {
   "cell_type": "code",
   "execution_count": null,
   "id": "df77d854-4e4d-4574-bde1-6f22a85f16a1",
   "metadata": {},
   "outputs": [],
   "source": []
  },
  {
   "cell_type": "code",
   "execution_count": 5,
   "id": "c0be0d61-26b6-407a-a28c-26c24738a73a",
   "metadata": {},
   "outputs": [],
   "source": [
    "import yaml\n",
    "with open(\"/home/vibhav911/Documents/DS_Projects/shipment_price_prediction/notebooks/DataDriftReport.yaml\", 'r+') as stream:\n",
    "    data = yaml.safe_load(stream)\n",
    "\n"
   ]
  },
  {
   "cell_type": "code",
   "execution_count": 14,
   "id": "a5ebd955-b8b1-4987-85ce-ef159f4a39a0",
   "metadata": {
    "scrolled": true
   },
   "outputs": [
    {
     "name": "stdout",
     "output_type": "stream",
     "text": [
      "False\n",
      "False\n"
     ]
    },
    {
     "ename": "AttributeError",
     "evalue": "'float' object has no attribute 'items'",
     "output_type": "error",
     "traceback": [
      "\u001b[0;31m---------------------------------------------------------------------------\u001b[0m",
      "\u001b[0;31mAttributeError\u001b[0m                            Traceback (most recent call last)",
      "Cell \u001b[0;32mIn[14], line 13\u001b[0m\n\u001b[1;32m     10\u001b[0m                 \u001b[38;5;28;01mfor\u001b[39;00m result \u001b[38;5;129;01min\u001b[39;00m find(key, d):\n\u001b[1;32m     11\u001b[0m                     \u001b[38;5;28;01myield\u001b[39;00m result\n\u001b[0;32m---> 13\u001b[0m \u001b[38;5;28;01mfor\u001b[39;00m x \u001b[38;5;129;01min\u001b[39;00m find(\u001b[38;5;124m\"\u001b[39m\u001b[38;5;124mdataset_drift\u001b[39m\u001b[38;5;124m\"\u001b[39m, data):\n\u001b[1;32m     14\u001b[0m     \u001b[38;5;28mprint\u001b[39m(x)\n",
      "Cell \u001b[0;32mIn[14], line 10\u001b[0m, in \u001b[0;36mfind\u001b[0;34m(key, dictionary)\u001b[0m\n\u001b[1;32m      8\u001b[0m \u001b[38;5;28;01melif\u001b[39;00m \u001b[38;5;28misinstance\u001b[39m(v, \u001b[38;5;28mlist\u001b[39m):\n\u001b[1;32m      9\u001b[0m     \u001b[38;5;28;01mfor\u001b[39;00m d \u001b[38;5;129;01min\u001b[39;00m v:\n\u001b[0;32m---> 10\u001b[0m         \u001b[38;5;28;01mfor\u001b[39;00m result \u001b[38;5;129;01min\u001b[39;00m find(key, d):\n\u001b[1;32m     11\u001b[0m             \u001b[38;5;28;01myield\u001b[39;00m result\n",
      "Cell \u001b[0;32mIn[14], line 6\u001b[0m, in \u001b[0;36mfind\u001b[0;34m(key, dictionary)\u001b[0m\n\u001b[1;32m      4\u001b[0m     \u001b[38;5;28;01myield\u001b[39;00m v\n\u001b[1;32m      5\u001b[0m \u001b[38;5;28;01melif\u001b[39;00m \u001b[38;5;28misinstance\u001b[39m(v, \u001b[38;5;28mdict\u001b[39m):\n\u001b[0;32m----> 6\u001b[0m     \u001b[38;5;28;01mfor\u001b[39;00m result \u001b[38;5;129;01min\u001b[39;00m find(key, v):\n\u001b[1;32m      7\u001b[0m         \u001b[38;5;28;01myield\u001b[39;00m result\n\u001b[1;32m      8\u001b[0m \u001b[38;5;28;01melif\u001b[39;00m \u001b[38;5;28misinstance\u001b[39m(v, \u001b[38;5;28mlist\u001b[39m):\n",
      "Cell \u001b[0;32mIn[14], line 6\u001b[0m, in \u001b[0;36mfind\u001b[0;34m(key, dictionary)\u001b[0m\n\u001b[1;32m      4\u001b[0m     \u001b[38;5;28;01myield\u001b[39;00m v\n\u001b[1;32m      5\u001b[0m \u001b[38;5;28;01melif\u001b[39;00m \u001b[38;5;28misinstance\u001b[39m(v, \u001b[38;5;28mdict\u001b[39m):\n\u001b[0;32m----> 6\u001b[0m     \u001b[38;5;28;01mfor\u001b[39;00m result \u001b[38;5;129;01min\u001b[39;00m find(key, v):\n\u001b[1;32m      7\u001b[0m         \u001b[38;5;28;01myield\u001b[39;00m result\n\u001b[1;32m      8\u001b[0m \u001b[38;5;28;01melif\u001b[39;00m \u001b[38;5;28misinstance\u001b[39m(v, \u001b[38;5;28mlist\u001b[39m):\n",
      "    \u001b[0;31m[... skipping similar frames: find at line 6 (2 times)]\u001b[0m\n",
      "Cell \u001b[0;32mIn[14], line 6\u001b[0m, in \u001b[0;36mfind\u001b[0;34m(key, dictionary)\u001b[0m\n\u001b[1;32m      4\u001b[0m     \u001b[38;5;28;01myield\u001b[39;00m v\n\u001b[1;32m      5\u001b[0m \u001b[38;5;28;01melif\u001b[39;00m \u001b[38;5;28misinstance\u001b[39m(v, \u001b[38;5;28mdict\u001b[39m):\n\u001b[0;32m----> 6\u001b[0m     \u001b[38;5;28;01mfor\u001b[39;00m result \u001b[38;5;129;01min\u001b[39;00m find(key, v):\n\u001b[1;32m      7\u001b[0m         \u001b[38;5;28;01myield\u001b[39;00m result\n\u001b[1;32m      8\u001b[0m \u001b[38;5;28;01melif\u001b[39;00m \u001b[38;5;28misinstance\u001b[39m(v, \u001b[38;5;28mlist\u001b[39m):\n",
      "Cell \u001b[0;32mIn[14], line 10\u001b[0m, in \u001b[0;36mfind\u001b[0;34m(key, dictionary)\u001b[0m\n\u001b[1;32m      8\u001b[0m \u001b[38;5;28;01melif\u001b[39;00m \u001b[38;5;28misinstance\u001b[39m(v, \u001b[38;5;28mlist\u001b[39m):\n\u001b[1;32m      9\u001b[0m     \u001b[38;5;28;01mfor\u001b[39;00m d \u001b[38;5;129;01min\u001b[39;00m v:\n\u001b[0;32m---> 10\u001b[0m         \u001b[38;5;28;01mfor\u001b[39;00m result \u001b[38;5;129;01min\u001b[39;00m find(key, d):\n\u001b[1;32m     11\u001b[0m             \u001b[38;5;28;01myield\u001b[39;00m result\n",
      "Cell \u001b[0;32mIn[14], line 2\u001b[0m, in \u001b[0;36mfind\u001b[0;34m(key, dictionary)\u001b[0m\n\u001b[1;32m      1\u001b[0m \u001b[38;5;28;01mdef\u001b[39;00m \u001b[38;5;21mfind\u001b[39m(key, dictionary):\n\u001b[0;32m----> 2\u001b[0m     \u001b[38;5;28;01mfor\u001b[39;00m k, v \u001b[38;5;129;01min\u001b[39;00m \u001b[43mdictionary\u001b[49m\u001b[38;5;241;43m.\u001b[39;49m\u001b[43mitems\u001b[49m():\n\u001b[1;32m      3\u001b[0m         \u001b[38;5;28;01mif\u001b[39;00m k \u001b[38;5;241m==\u001b[39m key:\n\u001b[1;32m      4\u001b[0m             \u001b[38;5;28;01myield\u001b[39;00m v\n",
      "\u001b[0;31mAttributeError\u001b[0m: 'float' object has no attribute 'items'"
     ]
    }
   ],
   "source": [
    "def find(key, dictionary):\n",
    "    for k, v in dictionary.items():\n",
    "        if k == key:\n",
    "            yield v\n",
    "        elif isinstance(v, dict):\n",
    "            for result in find(key, v):\n",
    "                yield result\n",
    "        elif isinstance(v, list):\n",
    "            for d in v:\n",
    "                for result in find(key, d):\n",
    "                    yield result\n",
    "\n",
    "for x in find(\"dataset_drift\", data):\n",
    "    print(x)"
   ]
  },
  {
   "cell_type": "code",
   "execution_count": null,
   "id": "6ef3633b-d0dc-4e7f-bab8-64f75711b793",
   "metadata": {},
   "outputs": [],
   "source": []
  },
  {
   "cell_type": "code",
   "execution_count": 8,
   "id": "3c1a0e02-0092-44b1-a359-bc6edfc53664",
   "metadata": {
    "scrolled": true
   },
   "outputs": [
    {
     "name": "stdout",
     "output_type": "stream",
     "text": [
      "['metrics', {'metric': 'DatasetDriftMetric', 'result': {'dataset_drift': False, 'drift_share': 0.5, 'number_of_columns': 15, 'number_of_drifted_columns': 1, 'share_of_drifted_columns': 0.06666666666666667}}, 'result', 'dataset_drift'] -> False\n",
      "['metrics', {'metric': 'DataDriftTable', 'result': {'current_fi': None, 'dataset_drift': False, 'drift_by_columns': {'Artist Reputation': {'column_name': 'Artist Reputation', 'column_type': 'num', 'current': {'small_distribution': {'x': [0.0, 0.098, 0.196, 0.29400000000000004, 0.392, 0.49, 0.5880000000000001, 0.686, 0.784, 0.882, 0.98], 'y': [0.758104133183734, 1.152318282439276, 1.1674803651029502, 1.4707220183764447, 1.1978045304303002, 0.9248870424841548, 1.0006974558025292, 1.1523182824392761, 0.7581041331837343, 0.6216453892106621]}}, 'drift_detected': False, 'drift_score': 0.5261301929996701, 'reference': {'small_distribution': {'x': [0.0, 0.1, 0.2, 0.30000000000000004, 0.4, 0.5, 0.6000000000000001, 0.7000000000000001, 0.8, 0.9, 1.0], 'y': [0.8888062476757159, 1.14540721457791, 1.3313499442171806, 1.0673112681294163, 1.1268129416139832, 1.2644105615470422, 0.9929341762737078, 0.7995537374488659, 0.7437709185570845, 0.6396429899590927]}}, 'stattest_name': 'K-S p_value', 'stattest_threshold': 0.2}, 'Base Shipping Price': {'column_name': 'Base Shipping Price', 'column_type': 'num', 'current': {'small_distribution': {'x': [10.0, 18.971, 27.942, 36.913, 45.884, 54.855000000000004, 63.826, 72.797, 81.768, 90.739, 99.71], 'y': [0.03378891501640667, 0.030145012416598106, 0.0067909093905523235, 0.006294013581487515, 0.00612838164513258, 0.004472062281583237, 0.006459645517842455, 0.0049689580906480384, 0.005300221963357907, 0.007122173263262199]}}, 'drift_detected': True, 'drift_score': 0.14510837538315993, 'reference': {'small_distribution': {'x': [10.01, 19.003999999999998, 27.997999999999998, 36.992, 45.986, 54.98, 63.974, 72.968, 81.962, 90.956, 99.95], 'y': [0.03816436278786908, 0.027000356338546593, 0.005209869676350492, 0.005623351396695769, 0.00595413677297199, 0.006284922149248211, 0.005168521504315959, 0.006450314837386323, 0.005788744084833879, 0.005540655052626713]}}, 'stattest_name': 'K-S p_value', 'stattest_threshold': 0.2}, 'Cost': {'column_name': 'Cost', 'column_type': 'num', 'current': {'small_distribution': {'x': [-133988.47, 281483.56700000004, 696955.604, 1112427.641, 1527899.678, 1943371.715, 2358843.752, 2774315.789, 3189787.826, 3605259.863, 4020731.9], 'y': [2.3890189738444406e-06, 7.1527514186959285e-09, 0.0, 3.5763757093479643e-09, 0.0, 3.5763757093479667e-09, 0.0, 0.0, 0.0, 3.5763757093479643e-09]}}, 'drift_detected': False, 'drift_score': 0.4139098273120125, 'reference': {'small_distribution': {'x': [-252965.99, 151624.41499999998, 556214.82, 960805.2249999999, 1365395.63, 1769986.035, 2174576.4399999995, 2579166.8449999997, 2983757.25, 3388347.6549999993, 3792938.06], 'y': [2.4265963808394107e-06, 3.125162005626514e-08, 5.514991774635026e-09, 3.6766611830900158e-09, 0.0, 1.8383305915450102e-09, 9.191652957725035e-10, 0.0, 9.191652957725056e-10, 9.191652957725024e-10]}}, 'stattest_name': 'K-S p_value', 'stattest_threshold': 0.2}, 'Customer Information': {'column_name': 'Customer Information', 'column_type': 'cat', 'current': {'small_distribution': {'x': ['Wealthy', 'Working Class'], 'y': [169, 504]}}, 'drift_detected': False, 'drift_score': 0.002227069054080013, 'reference': {'small_distribution': {'x': ['Wealthy', 'Working Class'], 'y': [731, 1958]}}, 'stattest_name': 'PSI', 'stattest_threshold': 0.2}, 'Express Shipment': {'column_name': 'Express Shipment', 'column_type': 'cat', 'current': {'small_distribution': {'x': ['No', 'Yes'], 'y': [449, 224]}}, 'drift_detected': False, 'drift_score': 0.00033168509265785683, 'reference': {'small_distribution': {'x': ['No', 'Yes'], 'y': [1817, 872]}}, 'stattest_name': 'PSI', 'stattest_threshold': 0.2}, 'Fragile': {'column_name': 'Fragile', 'column_type': 'cat', 'current': {'small_distribution': {'x': ['No', 'Yes'], 'y': [565, 108]}}, 'drift_detected': False, 'drift_score': 6.527001200078416e-06, 'reference': {'small_distribution': {'x': ['No', 'Yes'], 'y': [2260, 429]}}, 'stattest_name': 'PSI', 'stattest_threshold': 0.2}, 'Height': {'column_name': 'Height', 'column_type': 'num', 'current': {'small_distribution': {'x': [3.0, 9.1, 15.2, 21.299999999999997, 27.4, 33.5, 39.599999999999994, 45.699999999999996, 51.8, 57.9, 64.0], 'y': [0.02630745621513653, 0.030204857135897496, 0.03361508294156335, 0.026307456215136527, 0.021192117506637756, 0.010961440089640232, 0.007307626726426813, 0.005115338708498769, 0.0021922880179280437, 0.0007307626726426813]}}, 'drift_detected': False, 'drift_score': 0.6463096145454513, 'reference': {'small_distribution': {'x': [3.0, 10.0, 17.0, 24.0, 31.0, 38.0, 45.0, 52.0, 59.0, 66.0, 73.0], 'y': [0.023588163417096106, 0.030441481166657815, 0.029485204271370136, 0.025925729161132654, 0.018753652446475057, 0.008872124528502364, 0.003878234075333369, 0.001540668331296818, 0.00021250597673059553, 0.00015937948254794666]}}, 'stattest_name': 'K-S p_value', 'stattest_threshold': 0.2}, 'Installation Included': {'column_name': 'Installation Included', 'column_type': 'cat', 'current': {'small_distribution': {'x': ['No', 'Yes'], 'y': [397, 276]}}, 'drift_detected': False, 'drift_score': 0.00016115013531303762, 'reference': {'small_distribution': {'x': ['No', 'Yes'], 'y': [1603, 1086]}}, 'stattest_name': 'PSI', 'stattest_threshold': 0.2}, 'International': {'column_name': 'International', 'column_type': 'cat', 'current': {'small_distribution': {'x': ['No', 'Yes'], 'y': [474, 199]}}, 'drift_detected': False, 'drift_score': 0.013307783194997851, 'reference': {'small_distribution': {'x': ['No', 'Yes'], 'y': [1749, 940]}}, 'stattest_name': 'PSI', 'stattest_threshold': 0.2}, 'Material': {'column_name': 'Material', 'column_type': 'cat', 'current': {'small_distribution': {'x': ['Aluminium', 'Brass', 'Bronze', 'Clay', 'Marble', 'Stone', 'Wood'], 'y': [99, 99, 103, 99, 91, 84, 98]}}, 'drift_detected': False, 'drift_score': 0.007169249714630094, 'reference': {'small_distribution': {'x': ['Aluminium', 'Brass', 'Bronze', 'Clay', 'Marble', 'Stone', 'Wood'], 'y': [422, 391, 354, 382, 403, 368, 369]}}, 'stattest_name': 'PSI', 'stattest_threshold': 0.2}, 'Price Of Sculpture': {'column_name': 'Price Of Sculpture', 'column_type': 'num', 'current': {'small_distribution': {'x': [3.0, 7681.357000000001, 15359.714000000002, 23038.071000000004, 30716.428000000004, 38394.785, 46073.14200000001, 53751.499, 61429.85600000001, 69108.213, 76786.57], 'y': [0.00012733345668668417, 9.675794581055027e-07, 7.740635664844022e-07, 3.8703178324220113e-07, 0.0, 1.9351589162110049e-07, 1.9351589162110065e-07, 0.0, 0.0, 3.8703178324220097e-07]}}, 'drift_detected': False, 'drift_score': 0.7753926405130229, 'reference': {'small_distribution': {'x': [3.0, 38241.267, 76479.534, 114717.801, 152956.068, 191194.335, 229432.602, 267670.869, 305909.136, 344147.403, 382385.67], 'y': [2.59475777329331e-05, 1.264312258351313e-07, 4.862739455197356e-08, 9.725478910394717e-09, 9.725478910394717e-09, 0.0, 0.0, 0.0, 0.0, 9.725478910394717e-09]}}, 'stattest_name': 'K-S p_value', 'stattest_threshold': 0.2}, 'Remote Location': {'column_name': 'Remote Location', 'column_type': 'cat', 'current': {'small_distribution': {'x': ['No', 'Yes'], 'y': [563, 110]}}, 'drift_detected': False, 'drift_score': 0.011481058131265657, 'reference': {'small_distribution': {'x': ['No', 'Yes'], 'y': [2138, 551]}}, 'stattest_name': 'PSI', 'stattest_threshold': 0.2}, 'Transport': {'column_name': 'Transport', 'column_type': 'cat', 'current': {'small_distribution': {'x': ['Airways', 'Roadways', 'Waterways'], 'y': [229, 288, 156]}}, 'drift_detected': False, 'drift_score': 0.002873010323386353, 'reference': {'small_distribution': {'x': ['Airways', 'Roadways', 'Waterways'], 'y': [962, 1080, 647]}}, 'stattest_name': 'PSI', 'stattest_threshold': 0.2}, 'Weight': {'column_name': 'Weight', 'column_type': 'num', 'current': {'small_distribution': {'x': [10.0, 1938885.7, 3877761.4, 5816637.1, 7755512.8, 9694388.5, 11633264.2, 13572139.9, 15511015.6, 17449891.3, 19388767.0], 'y': [4.981364538614194e-07, 7.663637751714144e-09, 2.299091325514244e-09, 1.532727550342829e-09, 1.532727550342829e-09, 0.0, 1.532727550342828e-09, 1.5327275503428295e-09, 7.66363775171414e-10, 7.663637751714148e-10]}}, 'drift_detected': False, 'drift_score': 0.87033421570126, 'reference': {'small_distribution': {'x': [4.0, 11792790.5, 23585577.0, 35378363.5, 47171150.0, 58963936.5, 70756723.0, 82549509.5, 94342296.0, 106135082.5, 117927869.0], 'y': [8.432457571506291e-08, 2.8381495192055586e-10, 6.306998931567908e-11, 3.153499465783954e-11, 6.306998931567908e-11, 0.0, 0.0, 0.0, 0.0, 3.153499465783954e-11]}}, 'stattest_name': 'K-S p_value', 'stattest_threshold': 0.2}, 'Width': {'column_name': 'Width', 'column_type': 'num', 'current': {'small_distribution': {'x': [2.0, 5.5, 9.0, 12.5, 16.0, 19.5, 23.0, 26.5, 30.0, 33.5, 37.0], 'y': [0.05306728932286139, 0.10740819358947146, 0.061133517299936324, 0.027594990447887924, 0.02250053067289323, 0.0063680747187433665, 0.0033963065166631285, 0.0021226915729144554, 0.0008490766291657821, 0.0012736149437486733]}}, 'drift_detected': False, 'drift_score': 0.5944190789712539, 'reference': {'small_distribution': {'x': [2.0, 6.3, 10.6, 14.899999999999999, 19.2, 23.5, 27.799999999999997, 32.099999999999994, 36.4, 40.699999999999996, 45.0], 'y': [0.07394466690305898, 0.08224722599392877, 0.036323696022555294, 0.02499416226313923, 0.008907954024579032, 0.0037188545927854246, 0.0015567298295380847, 0.0005189099431793607, 0.0001729699810597872, 0.0001729699810597869]}}, 'stattest_name': 'K-S p_value', 'stattest_threshold': 0.2}}, 'number_of_columns': 15, 'number_of_drifted_columns': 1, 'reference_fi': None, 'share_of_drifted_columns': 0.06666666666666667}}, 'result', 'dataset_drift'] -> False\n"
     ]
    }
   ],
   "source": [
    "import sys\n",
    "from pathlib import Path\n",
    "import ruamel.yaml\n",
    "\n",
    "in_file = Path('/home/vibhav911/Documents/DS_Projects/shipment_price_prediction/notebooks/DataDriftReport.yaml')\n",
    "\n",
    "yaml = ruamel.yaml.YAML()\n",
    "data = yaml.load(in_file)\n",
    "\n",
    "def lookup(sk, d, path=[]):\n",
    "   # lookup the values for key(s) sk return as list the tuple (path to the value, value)\n",
    "   if isinstance(d, dict):\n",
    "       for k, v in d.items():\n",
    "           if k == sk:\n",
    "               yield (path + [k], v)\n",
    "           for res in lookup(sk, v, path + [k]):\n",
    "               yield res\n",
    "   elif isinstance(d, list):\n",
    "       for item in d:\n",
    "           for res in lookup(sk, item, path + [item]):\n",
    "               yield res\n",
    "\n",
    "for path, value in lookup(\"dataset_drift\", data):\n",
    "    print(path, '->', value)"
   ]
  },
  {
   "cell_type": "code",
   "execution_count": null,
   "id": "2d2e1e28-df4d-4f59-989c-b0f3e21fe403",
   "metadata": {},
   "outputs": [],
   "source": []
  },
  {
   "cell_type": "code",
   "execution_count": null,
   "id": "3b87adf0-14ab-4ce7-96bf-8729aa803817",
   "metadata": {},
   "outputs": [],
   "source": []
  },
  {
   "cell_type": "code",
   "execution_count": 12,
   "id": "5832b689-3905-4527-ae49-f8634ec5c1cb",
   "metadata": {},
   "outputs": [],
   "source": [
    "import sys\n",
    "import yaml\n",
    "\n",
    "with open(\"/home/vibhav911/Documents/DS_Projects/shipment_price_prediction/notebooks/DataDriftReport.yaml\", 'r+') as stream:\n",
    "    data = yaml.safe_load(stream)\n",
    "\n",
    "def find(key, dictionary):\n",
    "    # everything is a dict\n",
    "    for k, v in dictionary.items():\n",
    "        if k == key:\n",
    "            yield v\n",
    "        elif isinstance(v, dict):\n",
    "            for result in find(key, v):\n",
    "                yield result\n",
    "\n",
    "for x in find(\"dataset_drift\", data):\n",
    "    print(x)"
   ]
  },
  {
   "cell_type": "code",
   "execution_count": null,
   "id": "46de7f17-e5b1-4b6b-929c-98392629960d",
   "metadata": {},
   "outputs": [],
   "source": []
  },
  {
   "cell_type": "code",
   "execution_count": null,
   "id": "1ff46a9b-f914-4d00-8bf0-e24e235f630b",
   "metadata": {},
   "outputs": [],
   "source": []
  },
  {
   "cell_type": "code",
   "execution_count": 45,
   "id": "5e769c59-70b2-4935-ab93-8e9d51c8c47b",
   "metadata": {
    "scrolled": true
   },
   "outputs": [
    {
     "name": "stdout",
     "output_type": "stream",
     "text": [
      "False\n"
     ]
    }
   ],
   "source": [
    "import yaml\n",
    "with open(\"/home/vibhav911/Documents/DS_Projects/shipment_price_prediction/notebooks/DataDriftReport.yaml\", 'r') as stream:\n",
    "    data = yaml.load(stream, Loader=yaml.FullLoader)\n",
    "    print(data['metrics']['metric'==\"DatasetDriftMetric\"]['result']['dataset_drift'])"
   ]
  },
  {
   "cell_type": "code",
   "execution_count": 34,
   "id": "cc1fee72-c97c-499a-b310-8759bcd22656",
   "metadata": {},
   "outputs": [
    {
     "ename": "TypeError",
     "evalue": "list indices must be integers or slices, not str",
     "output_type": "error",
     "traceback": [
      "\u001b[0;31m---------------------------------------------------------------------------\u001b[0m",
      "\u001b[0;31mTypeError\u001b[0m                                 Traceback (most recent call last)",
      "Cell \u001b[0;32mIn[34], line 1\u001b[0m\n\u001b[0;32m----> 1\u001b[0m df \u001b[38;5;241m=\u001b[39m \u001b[43mdata\u001b[49m\u001b[43m[\u001b[49m\u001b[38;5;124;43m'\u001b[39;49m\u001b[38;5;124;43mmetrics\u001b[39;49m\u001b[38;5;124;43m'\u001b[39;49m\u001b[43m]\u001b[49m\u001b[43m[\u001b[49m\u001b[38;5;124;43m'\u001b[39;49m\u001b[38;5;124;43mmetric\u001b[39;49m\u001b[38;5;124;43m'\u001b[39;49m\u001b[43m]\u001b[49m\n",
      "\u001b[0;31mTypeError\u001b[0m: list indices must be integers or slices, not str"
     ]
    }
   ],
   "source": [
    "df = data['metrics']['metric']"
   ]
  },
  {
   "cell_type": "code",
   "execution_count": null,
   "id": "bd66f0c5-b450-43ce-8756-f2eb49c7553c",
   "metadata": {},
   "outputs": [],
   "source": []
  }
 ],
 "metadata": {
  "kernelspec": {
   "display_name": "datascience_env",
   "language": "python",
   "name": "datascience_env"
  },
  "language_info": {
   "codemirror_mode": {
    "name": "ipython",
    "version": 3
   },
   "file_extension": ".py",
   "mimetype": "text/x-python",
   "name": "python",
   "nbconvert_exporter": "python",
   "pygments_lexer": "ipython3",
   "version": "3.10.14"
  }
 },
 "nbformat": 4,
 "nbformat_minor": 5
}
